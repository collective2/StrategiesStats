{
 "cells": [
  {
   "cell_type": "markdown",
   "metadata": {},
   "source": [
    "# Introduction"
   ]
  },
  {
   "cell_type": "markdown",
   "metadata": {},
   "source": [
    "Strategy Scoring Workbench contains a number of different statistics used to calculate C2Score.\n",
    "\n",
    "Let's call those statistics \"attributes\" for now.\n",
    "\n",
    "This work is devoted to statistical testing of these attributes.\n",
    "\n",
    "The goal is to find attributes, that would allow us to predict that a strategy have a chance to achieve high profit and low volatility in the future. \"High profit\" is defined as a high _Rate Of Change_ over some time intervals.\n",
    "\n",
    "We calculate a statistics of the whole Collective2 historical data. It is our population statistics. Then, we select a sample of strategies using some specific attribute and make a statistical hypothesis test: \"*Is ROC of the selected sample on average higher than the ROC of the population?*\" If so, we can conclude that the given attribute should be use for C2Score. If not, we conclude, that we didn't find enough evidence to exclude the given attribute from the C2Score usage.\n",
    "\n",
    "The described process (let's call it experiment) will be repeated for many different attributes.  \n",
    "\n",
    "For example:\n",
    "\n",
    "- Are average returns of systems which have Sharpe ratio between 1.0 and 2.0 better than returns of other systems after 1 month?\n",
    "\n",
    "- Are average returns of systems which have \"Daily Max Leverage (Avg)\" values between 2 and 3 better than returns of other systems after 3 months?\n",
    "\n",
    "Then, we can choose a set of the best experiments results (that is best attributes and their values) for C2Score calculation. \n",
    "\n",
    "In order to compare experiment results, we need a metric, which allows us to make those comparisons.\n",
    "\n",
    "The overall process should be objective, based on math and statistics. "
   ]
  },
  {
   "cell_type": "markdown",
   "metadata": {},
   "source": [
    "***\n",
    "\n",
    "It all starts by data cleaning. \n",
    "\n",
    "Main data used are strategies equities.\n",
    "\n",
    "- Historical data are prepared using these instructions: https://collective2.slack.com/archives/CH97NLREC/p1602264704235300\n",
    "\n",
    "- A minimal Age of strategy is 7 days. Hidden and test systems are excluded. \n",
    "\n",
    "- Many outliers, errors, C2 internal tests and temporary strategies are excluded.\n",
    "\n",
    "- and so on...\n",
    "\n",
    "Details can be found in the \"Data preparation\" chapter."
   ]
  },
  {
   "cell_type": "markdown",
   "metadata": {},
   "source": [
    "Irregular strategies equities data were transformed to daily data then. Commissions subtracted from equities.\n",
    "\n",
    "Equity data are limited to the moment they fall to or under zero or strategies were killed.\n",
    "\n",
    "Data were prepared for the simplest possible usage directly in the database. So it is possible to answer many questions using just SQL commands."
   ]
  }
 ],
 "metadata": {
  "kernelspec": {
   "display_name": "R",
   "language": "R",
   "name": "ir"
  },
  "language_info": {
   "codemirror_mode": "r",
   "file_extension": ".r",
   "mimetype": "text/x-r-source",
   "name": "R",
   "pygments_lexer": "r",
   "version": "4.0.2"
  }
 },
 "nbformat": 4,
 "nbformat_minor": 4
}
