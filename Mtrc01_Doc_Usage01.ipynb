{
 "cells": [
  {
   "cell_type": "markdown",
   "metadata": {},
   "source": [
    "# Usage\n",
    "\n",
    "I don't think that there is an automated way to select the best combination from hypothesis tests and experiment results. We still need to study numbers and select right values. For now, the easiest way is to translate numbers to Score Workbench formula then."
   ]
  },
  {
   "cell_type": "markdown",
   "metadata": {},
   "source": [
    "It seems we will always need `Latest Trade Days Ago`, `Annualized Return Pcnt` and `Age Strategy (Days)` for reasonbale strategies filtering."
   ]
  },
  {
   "cell_type": "markdown",
   "metadata": {},
   "source": [
    "Example:\n",
    "\n",
    "Studying attributes tests and experiments results we have found that attribute _Sortino_ having values between 0.5 and 1.5 or between 3.5 and 4.5 are promissing for next 30 days returns.\n",
    "\n",
    "Basic filtering is:\n",
    "- `%[Age Strategy (Days)]% > 180`\n",
    "- `%[Latest Trade Days Ago]% <= 21 `\n",
    "- `%[Annualized Return Pcnt]% > 0.2`\n",
    "\n",
    "\n",
    "The easiest way is translate it to Score Workbench formula for now:\n",
    "\n",
    "```\n",
    "\\# Basic filtering:\n",
    "(%[Age Strategy (Days)]% > 180 ? 1 : 0)\n",
    "* \n",
    "(%[Latest Trade Days Ago]% <= 21 ? 1 : 0)\n",
    "* \n",
    "(%[Annualized Return Pcnt]% > 0.2 ? 1: 0)\n",
    "* \n",
    "\\# Sortino:\n",
    "(\n",
    "\t( %[Sortino Ratio]% > 0.5 ? (%[Sortino Ratio]% < 1.5 ? 1 : 0 ) : 0)\n",
    "\t+\n",
    "\t( %[Sortino Ratio]% > 3.5 ? (%[Sortino Ratio]% < 4.5 ? 1 : 0 ) : 0)\n",
    ")\n",
    "```\n",
    "\n",
    "This formula returns 60 strategies in Strategy Scoring Workbench.\n",
    "\n",
    "Using cleaned data, we get the folowing [list of 33 strategies](https://svancara.github.io/C2ScoringWorkbench/usageExample01.html)."
   ]
  }
 ],
 "metadata": {
  "kernelspec": {
   "display_name": "R",
   "language": "R",
   "name": "ir"
  },
  "language_info": {
   "codemirror_mode": "r",
   "file_extension": ".r",
   "mimetype": "text/x-r-source",
   "name": "R",
   "pygments_lexer": "r",
   "version": "4.0.2"
  }
 },
 "nbformat": 4,
 "nbformat_minor": 4
}
