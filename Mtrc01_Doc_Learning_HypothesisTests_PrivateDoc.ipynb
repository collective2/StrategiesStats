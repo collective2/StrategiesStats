{
 "cells": [
  {
   "cell_type": "markdown",
   "metadata": {},
   "source": [
    "# Hypothesis Testing - Age"
   ]
  },
  {
   "cell_type": "code",
   "execution_count": 1,
   "metadata": {},
   "outputs": [],
   "source": [
    "source(\"C2Score_Age_Hypotheses.R\")\n",
    "\n",
    "# Let's see an overview of sytems ages since '2017-06-01'. \n",
    "# Select just ages > 30. Because every system was \n",
    "# dbData = getC2ScoreDbData(\"select * from ReturnsDataInIntervalsCleaned where age > 30\")\n",
    "\n",
    "\n",
    "sql = \"select \n",
    "\t r.DateStart,\n",
    "\t r.Systemid,\n",
    "     (DATEDIFF(r.DateStart, Date(from_unixtime(c2systems.added))) + 1) as Age\n",
    "     from ReturnsDataInIntervalsCleaned r \n",
    "\t join c2systems on r.systemid=c2systems.guid; \"\n",
    "agesData = getC2ScoreDbData(sql);"
   ]
  },
  {
   "cell_type": "code",
   "execution_count": 2,
   "metadata": {},
   "outputs": [
    {
     "data": {
      "text/html": [
       "<table>\n",
       "<caption>A data.frame: 6 × 3</caption>\n",
       "<thead>\n",
       "\t<tr><th></th><th scope=col>DateStart</th><th scope=col>Systemid</th><th scope=col>Age</th></tr>\n",
       "\t<tr><th></th><th scope=col>&lt;chr&gt;</th><th scope=col>&lt;dbl&gt;</th><th scope=col>&lt;dbl&gt;</th></tr>\n",
       "</thead>\n",
       "<tbody>\n",
       "\t<tr><th scope=row>1</th><td>2017-06-01</td><td>13202557</td><td>4488</td></tr>\n",
       "\t<tr><th scope=row>2</th><td>2017-06-01</td><td>21522544</td><td>4010</td></tr>\n",
       "\t<tr><th scope=row>3</th><td>2017-06-01</td><td>22906062</td><td>3894</td></tr>\n",
       "\t<tr><th scope=row>4</th><td>2017-06-01</td><td>27363168</td><td>3593</td></tr>\n",
       "\t<tr><th scope=row>5</th><td>2017-06-01</td><td>30415311</td><td>3410</td></tr>\n",
       "\t<tr><th scope=row>6</th><td>2017-06-01</td><td>32020445</td><td>3318</td></tr>\n",
       "</tbody>\n",
       "</table>\n"
      ],
      "text/latex": [
       "A data.frame: 6 × 3\n",
       "\\begin{tabular}{r|lll}\n",
       "  & DateStart & Systemid & Age\\\\\n",
       "  & <chr> & <dbl> & <dbl>\\\\\n",
       "\\hline\n",
       "\t1 & 2017-06-01 & 13202557 & 4488\\\\\n",
       "\t2 & 2017-06-01 & 21522544 & 4010\\\\\n",
       "\t3 & 2017-06-01 & 22906062 & 3894\\\\\n",
       "\t4 & 2017-06-01 & 27363168 & 3593\\\\\n",
       "\t5 & 2017-06-01 & 30415311 & 3410\\\\\n",
       "\t6 & 2017-06-01 & 32020445 & 3318\\\\\n",
       "\\end{tabular}\n"
      ],
      "text/markdown": [
       "\n",
       "A data.frame: 6 × 3\n",
       "\n",
       "| <!--/--> | DateStart &lt;chr&gt; | Systemid &lt;dbl&gt; | Age &lt;dbl&gt; |\n",
       "|---|---|---|---|\n",
       "| 1 | 2017-06-01 | 13202557 | 4488 |\n",
       "| 2 | 2017-06-01 | 21522544 | 4010 |\n",
       "| 3 | 2017-06-01 | 22906062 | 3894 |\n",
       "| 4 | 2017-06-01 | 27363168 | 3593 |\n",
       "| 5 | 2017-06-01 | 30415311 | 3410 |\n",
       "| 6 | 2017-06-01 | 32020445 | 3318 |\n",
       "\n"
      ],
      "text/plain": [
       "  DateStart  Systemid Age \n",
       "1 2017-06-01 13202557 4488\n",
       "2 2017-06-01 21522544 4010\n",
       "3 2017-06-01 22906062 3894\n",
       "4 2017-06-01 27363168 3593\n",
       "5 2017-06-01 30415311 3410\n",
       "6 2017-06-01 32020445 3318"
      ]
     },
     "metadata": {},
     "output_type": "display_data"
    },
    {
     "data": {
      "text/plain": [
       "   Min. 1st Qu.  Median    Mean 3rd Qu.    Max. \n",
       "    0.0    61.0   187.0   444.6   507.0  5833.0 "
      ]
     },
     "metadata": {},
     "output_type": "display_data"
    },
    {
     "data": {
      "image/png": "[encoded data removed]",
      "text/plain": [
       "Plot with title “Histogram of agesData$Age”"
      ]
     },
     "metadata": {
      "image/png": {
       "height": 420,
       "width": 420
      }
     },
     "output_type": "display_data"
    }
   ],
   "source": [
    "head(agesData)\n",
    "summary(agesData$Age)\n",
    "hist(agesData$Age)"
   ]
  },
  {
   "cell_type": "markdown",
   "metadata": {},
   "source": [
    "Look at Median and Mean. They are very far apart.\n",
    "\n",
    "Well, we have a couple of trading systems from years 2005-2010. Those systems are very old now and their ages shift the whole population age mean up. "
   ]
  },
  {
   "cell_type": "code",
   "execution_count": 3,
   "metadata": {},
   "outputs": [],
   "source": [
    "sql = \"select \n",
    "\t r.DateStart,\n",
    "\t r.Systemid,\n",
    "     (DATEDIFF(r.DateStart, Date(from_unixtime(c2systems.added))) + 1) as Age\n",
    "     from ReturnsDataInIntervalsCleaned r \n",
    "\t join c2systems on r.systemid=c2systems.guid\n",
    "     where Date(from_unixtime(c2systems.added)) >= '2017-06-01'\"\n",
    "# agesData = getC2ScoreDbData(sql);\n",
    "#head(agesData)\n",
    "# summary(agesData$Age)"
   ]
  },
  {
   "cell_type": "markdown",
   "metadata": {},
   "source": [
    "It looks better. Median and mean are much closer to each other."
   ]
  },
  {
   "cell_type": "code",
   "execution_count": 4,
   "metadata": {},
   "outputs": [],
   "source": [
    "#hist(agesData$Age)"
   ]
  },
  {
   "cell_type": "code",
   "execution_count": 6,
   "metadata": {},
   "outputs": [
    {
     "data": {
      "text/html": [
       "<table>\n",
       "<caption>A data.frame: 6 × 4</caption>\n",
       "<thead>\n",
       "\t<tr><th></th><th scope=col>DateStart</th><th scope=col>Count</th><th scope=col>AvgAge</th><th scope=col>StdAge</th></tr>\n",
       "\t<tr><th></th><th scope=col>&lt;chr&gt;</th><th scope=col>&lt;dbl&gt;</th><th scope=col>&lt;dbl&gt;</th><th scope=col>&lt;dbl&gt;</th></tr>\n",
       "</thead>\n",
       "<tbody>\n",
       "\t<tr><th scope=row>1</th><td>2017-06-01 00:00:00</td><td> 2</td><td>2.0000</td><td>0.0000000</td></tr>\n",
       "\t<tr><th scope=row>2</th><td>2017-06-02 00:00:00</td><td> 5</td><td>2.4000</td><td>0.4898979</td></tr>\n",
       "\t<tr><th scope=row>3</th><td>2017-06-03 00:00:00</td><td> 5</td><td>3.4000</td><td>0.4898979</td></tr>\n",
       "\t<tr><th scope=row>4</th><td>2017-06-04 00:00:00</td><td> 6</td><td>4.0000</td><td>1.0000000</td></tr>\n",
       "\t<tr><th scope=row>5</th><td>2017-06-05 00:00:00</td><td>10</td><td>3.8000</td><td>1.6613248</td></tr>\n",
       "\t<tr><th scope=row>6</th><td>2017-06-06 00:00:00</td><td>12</td><td>4.3333</td><td>1.8408935</td></tr>\n",
       "</tbody>\n",
       "</table>\n"
      ],
      "text/latex": [
       "A data.frame: 6 × 4\n",
       "\\begin{tabular}{r|llll}\n",
       "  & DateStart & Count & AvgAge & StdAge\\\\\n",
       "  & <chr> & <dbl> & <dbl> & <dbl>\\\\\n",
       "\\hline\n",
       "\t1 & 2017-06-01 00:00:00 &  2 & 2.0000 & 0.0000000\\\\\n",
       "\t2 & 2017-06-02 00:00:00 &  5 & 2.4000 & 0.4898979\\\\\n",
       "\t3 & 2017-06-03 00:00:00 &  5 & 3.4000 & 0.4898979\\\\\n",
       "\t4 & 2017-06-04 00:00:00 &  6 & 4.0000 & 1.0000000\\\\\n",
       "\t5 & 2017-06-05 00:00:00 & 10 & 3.8000 & 1.6613248\\\\\n",
       "\t6 & 2017-06-06 00:00:00 & 12 & 4.3333 & 1.8408935\\\\\n",
       "\\end{tabular}\n"
      ],
      "text/markdown": [
       "\n",
       "A data.frame: 6 × 4\n",
       "\n",
       "| <!--/--> | DateStart &lt;chr&gt; | Count &lt;dbl&gt; | AvgAge &lt;dbl&gt; | StdAge &lt;dbl&gt; |\n",
       "|---|---|---|---|---|\n",
       "| 1 | 2017-06-01 00:00:00 |  2 | 2.0000 | 0.0000000 |\n",
       "| 2 | 2017-06-02 00:00:00 |  5 | 2.4000 | 0.4898979 |\n",
       "| 3 | 2017-06-03 00:00:00 |  5 | 3.4000 | 0.4898979 |\n",
       "| 4 | 2017-06-04 00:00:00 |  6 | 4.0000 | 1.0000000 |\n",
       "| 5 | 2017-06-05 00:00:00 | 10 | 3.8000 | 1.6613248 |\n",
       "| 6 | 2017-06-06 00:00:00 | 12 | 4.3333 | 1.8408935 |\n",
       "\n"
      ],
      "text/plain": [
       "  DateStart           Count AvgAge StdAge   \n",
       "1 2017-06-01 00:00:00  2    2.0000 0.0000000\n",
       "2 2017-06-02 00:00:00  5    2.4000 0.4898979\n",
       "3 2017-06-03 00:00:00  5    3.4000 0.4898979\n",
       "4 2017-06-04 00:00:00  6    4.0000 1.0000000\n",
       "5 2017-06-05 00:00:00 10    3.8000 1.6613248\n",
       "6 2017-06-06 00:00:00 12    4.3333 1.8408935"
      ]
     },
     "metadata": {},
     "output_type": "display_data"
    },
    {
     "data": {
      "text/html": [
       "<table>\n",
       "<caption>A data.frame: 6 × 4</caption>\n",
       "<thead>\n",
       "\t<tr><th></th><th scope=col>DateStart</th><th scope=col>Count</th><th scope=col>AvgAge</th><th scope=col>StdAge</th></tr>\n",
       "\t<tr><th></th><th scope=col>&lt;chr&gt;</th><th scope=col>&lt;dbl&gt;</th><th scope=col>&lt;dbl&gt;</th><th scope=col>&lt;dbl&gt;</th></tr>\n",
       "</thead>\n",
       "<tbody>\n",
       "\t<tr><th scope=row>1340</th><td>2021-01-30 00:00:00</td><td>614</td><td>212.5098</td><td>231.5929</td></tr>\n",
       "\t<tr><th scope=row>1341</th><td>2021-01-31 00:00:00</td><td>614</td><td>213.5098</td><td>231.5929</td></tr>\n",
       "\t<tr><th scope=row>1342</th><td>2021-02-01 00:00:00</td><td>605</td><td>215.4496</td><td>232.7662</td></tr>\n",
       "\t<tr><th scope=row>1343</th><td>2021-02-02 00:00:00</td><td>589</td><td>213.7963</td><td>231.4978</td></tr>\n",
       "\t<tr><th scope=row>1344</th><td>2021-02-03 00:00:00</td><td>568</td><td>212.3486</td><td>232.6192</td></tr>\n",
       "\t<tr><th scope=row>1345</th><td>2021-02-04 00:00:00</td><td>553</td><td>212.4268</td><td>230.4874</td></tr>\n",
       "</tbody>\n",
       "</table>\n"
      ],
      "text/latex": [
       "A data.frame: 6 × 4\n",
       "\\begin{tabular}{r|llll}\n",
       "  & DateStart & Count & AvgAge & StdAge\\\\\n",
       "  & <chr> & <dbl> & <dbl> & <dbl>\\\\\n",
       "\\hline\n",
       "\t1340 & 2021-01-30 00:00:00 & 614 & 212.5098 & 231.5929\\\\\n",
       "\t1341 & 2021-01-31 00:00:00 & 614 & 213.5098 & 231.5929\\\\\n",
       "\t1342 & 2021-02-01 00:00:00 & 605 & 215.4496 & 232.7662\\\\\n",
       "\t1343 & 2021-02-02 00:00:00 & 589 & 213.7963 & 231.4978\\\\\n",
       "\t1344 & 2021-02-03 00:00:00 & 568 & 212.3486 & 232.6192\\\\\n",
       "\t1345 & 2021-02-04 00:00:00 & 553 & 212.4268 & 230.4874\\\\\n",
       "\\end{tabular}\n"
      ],
      "text/markdown": [
       "\n",
       "A data.frame: 6 × 4\n",
       "\n",
       "| <!--/--> | DateStart &lt;chr&gt; | Count &lt;dbl&gt; | AvgAge &lt;dbl&gt; | StdAge &lt;dbl&gt; |\n",
       "|---|---|---|---|---|\n",
       "| 1340 | 2021-01-30 00:00:00 | 614 | 212.5098 | 231.5929 |\n",
       "| 1341 | 2021-01-31 00:00:00 | 614 | 213.5098 | 231.5929 |\n",
       "| 1342 | 2021-02-01 00:00:00 | 605 | 215.4496 | 232.7662 |\n",
       "| 1343 | 2021-02-02 00:00:00 | 589 | 213.7963 | 231.4978 |\n",
       "| 1344 | 2021-02-03 00:00:00 | 568 | 212.3486 | 232.6192 |\n",
       "| 1345 | 2021-02-04 00:00:00 | 553 | 212.4268 | 230.4874 |\n",
       "\n"
      ],
      "text/plain": [
       "     DateStart           Count AvgAge   StdAge  \n",
       "1340 2021-01-30 00:00:00 614   212.5098 231.5929\n",
       "1341 2021-01-31 00:00:00 614   213.5098 231.5929\n",
       "1342 2021-02-01 00:00:00 605   215.4496 232.7662\n",
       "1343 2021-02-02 00:00:00 589   213.7963 231.4978\n",
       "1344 2021-02-03 00:00:00 568   212.3486 232.6192\n",
       "1345 2021-02-04 00:00:00 553   212.4268 230.4874"
      ]
     },
     "metadata": {},
     "output_type": "display_data"
    }
   ],
   "source": [
    "agesExpandingData = getC2ScoreDbData(\"select * from SystemsAgesHistory\");\n",
    "head(agesExpandingData)\n",
    "tail(agesExpandingData)"
   ]
  },
  {
   "cell_type": "code",
   "execution_count": 7,
   "metadata": {},
   "outputs": [
    {
     "data": {
      "image/png": "[encoded data removed]",
      "text/plain": [
       "plot without title"
      ]
     },
     "metadata": {
      "image/png": {
       "height": 480,
       "width": 900
      }
     },
     "output_type": "display_data"
    }
   ],
   "source": [
    "options(repr.plot.width=15, repr.plot.height=8)\n",
    "\n",
    "ggplot(agesExpandingData, aes(x=as.Date(DateStart), y=AvgAge)) + \n",
    "      ggtitle(\"Daily average ages\") + \n",
    "      geom_line() + \n",
    "      xlab(\"Date\") + \n",
    "      scale_x_date(date_labels = \"%Y-%m\",date_breaks = \"3 months\")    \n"
   ]
  },
  {
   "cell_type": "markdown",
   "metadata": {},
   "source": [
    "OK. I think we are prepared for our first hypothesis testing: Does have AGE any impact on trading systems average returns?\n",
    "\n",
    "Our null hypothesis is: No. Average returns are the same regardless of the trading systems ages.\n",
    "\n",
    "Let's test this hypothese for systems older then 30, 60, ..., 180 days.\n",
    "\n",
    "Recall the population stats:\n"
   ]
  },
  {
   "cell_type": "code",
   "execution_count": 20,
   "metadata": {},
   "outputs": [
    {
     "data": {
      "text/html": [
       "<table>\n",
       "<caption>A data.frame: 9 × 4</caption>\n",
       "<thead>\n",
       "\t<tr><th></th><th scope=col>RetDaysInterval</th><th scope=col>Count</th><th scope=col>Mean</th><th scope=col>SD</th></tr>\n",
       "\t<tr><th></th><th scope=col>&lt;chr&gt;</th><th scope=col>&lt;dbl&gt;</th><th scope=col>&lt;dbl&gt;</th><th scope=col>&lt;dbl&gt;</th></tr>\n",
       "</thead>\n",
       "<tbody>\n",
       "\t<tr><th scope=row>2</th><td>007</td><td>456181</td><td>-0.0289</td><td>0.191</td></tr>\n",
       "\t<tr><th scope=row>3</th><td>014</td><td>451675</td><td>-0.0561</td><td>0.263</td></tr>\n",
       "\t<tr><th scope=row>4</th><td>021</td><td>447317</td><td>-0.0815</td><td>0.313</td></tr>\n",
       "\t<tr><th scope=row>5</th><td>030</td><td>441860</td><td>-0.1115</td><td>0.363</td></tr>\n",
       "\t<tr><th scope=row>6</th><td>060</td><td>425017</td><td>-0.1878</td><td>0.462</td></tr>\n",
       "\t<tr><th scope=row>7</th><td>090</td><td>409120</td><td>-0.2472</td><td>0.520</td></tr>\n",
       "\t<tr><th scope=row>8</th><td>120</td><td>394181</td><td>-0.2956</td><td>0.554</td></tr>\n",
       "\t<tr><th scope=row>9</th><td>150</td><td>379854</td><td>-0.3367</td><td>0.579</td></tr>\n",
       "\t<tr><th scope=row>10</th><td>180</td><td>366038</td><td>-0.3722</td><td>0.599</td></tr>\n",
       "</tbody>\n",
       "</table>\n"
      ],
      "text/latex": [
       "A data.frame: 9 × 4\n",
       "\\begin{tabular}{r|llll}\n",
       "  & RetDaysInterval & Count & Mean & SD\\\\\n",
       "  & <chr> & <dbl> & <dbl> & <dbl>\\\\\n",
       "\\hline\n",
       "\t2 & 007 & 456181 & -0.0289 & 0.191\\\\\n",
       "\t3 & 014 & 451675 & -0.0561 & 0.263\\\\\n",
       "\t4 & 021 & 447317 & -0.0815 & 0.313\\\\\n",
       "\t5 & 030 & 441860 & -0.1115 & 0.363\\\\\n",
       "\t6 & 060 & 425017 & -0.1878 & 0.462\\\\\n",
       "\t7 & 090 & 409120 & -0.2472 & 0.520\\\\\n",
       "\t8 & 120 & 394181 & -0.2956 & 0.554\\\\\n",
       "\t9 & 150 & 379854 & -0.3367 & 0.579\\\\\n",
       "\t10 & 180 & 366038 & -0.3722 & 0.599\\\\\n",
       "\\end{tabular}\n"
      ],
      "text/markdown": [
       "\n",
       "A data.frame: 9 × 4\n",
       "\n",
       "| <!--/--> | RetDaysInterval &lt;chr&gt; | Count &lt;dbl&gt; | Mean &lt;dbl&gt; | SD &lt;dbl&gt; |\n",
       "|---|---|---|---|---|\n",
       "| 2 | 007 | 456181 | -0.0289 | 0.191 |\n",
       "| 3 | 014 | 451675 | -0.0561 | 0.263 |\n",
       "| 4 | 021 | 447317 | -0.0815 | 0.313 |\n",
       "| 5 | 030 | 441860 | -0.1115 | 0.363 |\n",
       "| 6 | 060 | 425017 | -0.1878 | 0.462 |\n",
       "| 7 | 090 | 409120 | -0.2472 | 0.520 |\n",
       "| 8 | 120 | 394181 | -0.2956 | 0.554 |\n",
       "| 9 | 150 | 379854 | -0.3367 | 0.579 |\n",
       "| 10 | 180 | 366038 | -0.3722 | 0.599 |\n",
       "\n"
      ],
      "text/plain": [
       "   RetDaysInterval Count  Mean    SD   \n",
       "2  007             456181 -0.0289 0.191\n",
       "3  014             451675 -0.0561 0.263\n",
       "4  021             447317 -0.0815 0.313\n",
       "5  030             441860 -0.1115 0.363\n",
       "6  060             425017 -0.1878 0.462\n",
       "7  090             409120 -0.2472 0.520\n",
       "8  120             394181 -0.2956 0.554\n",
       "9  150             379854 -0.3367 0.579\n",
       "10 180             366038 -0.3722 0.599"
      ]
     },
     "metadata": {},
     "output_type": "display_data"
    }
   ],
   "source": [
    "populationReturnsInIntervals()"
   ]
  },
  {
   "cell_type": "code",
   "execution_count": 21,
   "metadata": {},
   "outputs": [],
   "source": [
    "# Hypothesis: If we select systems younger than 30 days. Will be the average return the same after 7, 14,... 180 days?"
   ]
  },
  {
   "cell_type": "code",
   "execution_count": 65,
   "metadata": {
    "scrolled": true
   },
   "outputs": [
    {
     "data": {
      "text/html": [
       "<table>\n",
       "<caption>A data.frame: 1 × 19</caption>\n",
       "<thead>\n",
       "\t<tr><th scope=col>Observations</th><th scope=col>avgRet007</th><th scope=col>stdRet007</th><th scope=col>avgRet014</th><th scope=col>stdRet014</th><th scope=col>avgRet021</th><th scope=col>stdRet021</th><th scope=col>avgRet030</th><th scope=col>stdRet030</th><th scope=col>avgRet060</th><th scope=col>stdRet060</th><th scope=col>avgRet090</th><th scope=col>stdRet090</th><th scope=col>avgRet120</th><th scope=col>stdRet120</th><th scope=col>avgRet150</th><th scope=col>stdRet150</th><th scope=col>avgRet180</th><th scope=col>stdRet180</th></tr>\n",
       "\t<tr><th scope=col>&lt;dbl&gt;</th><th scope=col>&lt;dbl&gt;</th><th scope=col>&lt;dbl&gt;</th><th scope=col>&lt;dbl&gt;</th><th scope=col>&lt;dbl&gt;</th><th scope=col>&lt;dbl&gt;</th><th scope=col>&lt;dbl&gt;</th><th scope=col>&lt;dbl&gt;</th><th scope=col>&lt;dbl&gt;</th><th scope=col>&lt;dbl&gt;</th><th scope=col>&lt;dbl&gt;</th><th scope=col>&lt;dbl&gt;</th><th scope=col>&lt;dbl&gt;</th><th scope=col>&lt;dbl&gt;</th><th scope=col>&lt;dbl&gt;</th><th scope=col>&lt;dbl&gt;</th><th scope=col>&lt;dbl&gt;</th><th scope=col>&lt;dbl&gt;</th><th scope=col>&lt;dbl&gt;</th></tr>\n",
       "</thead>\n",
       "<tbody>\n",
       "\t<tr><td>67518</td><td>-0.0662</td><td>0.278</td><td>-0.137</td><td>0.385</td><td>-0.206</td><td>0.453</td><td>-0.285</td><td>0.511</td><td>-0.439</td><td>0.588</td><td>-0.54</td><td>0.61</td><td>-0.615</td><td>0.588</td><td>-0.67</td><td>0.564</td><td>-0.713</td><td>0.549</td></tr>\n",
       "</tbody>\n",
       "</table>\n"
      ],
      "text/latex": [
       "A data.frame: 1 × 19\n",
       "\\begin{tabular}{lllllllllllllllllll}\n",
       " Observations & avgRet007 & stdRet007 & avgRet014 & stdRet014 & avgRet021 & stdRet021 & avgRet030 & stdRet030 & avgRet060 & stdRet060 & avgRet090 & stdRet090 & avgRet120 & stdRet120 & avgRet150 & stdRet150 & avgRet180 & stdRet180\\\\\n",
       " <dbl> & <dbl> & <dbl> & <dbl> & <dbl> & <dbl> & <dbl> & <dbl> & <dbl> & <dbl> & <dbl> & <dbl> & <dbl> & <dbl> & <dbl> & <dbl> & <dbl> & <dbl> & <dbl>\\\\\n",
       "\\hline\n",
       "\t 67518 & -0.0662 & 0.278 & -0.137 & 0.385 & -0.206 & 0.453 & -0.285 & 0.511 & -0.439 & 0.588 & -0.54 & 0.61 & -0.615 & 0.588 & -0.67 & 0.564 & -0.713 & 0.549\\\\\n",
       "\\end{tabular}\n"
      ],
      "text/markdown": [
       "\n",
       "A data.frame: 1 × 19\n",
       "\n",
       "| Observations &lt;dbl&gt; | avgRet007 &lt;dbl&gt; | stdRet007 &lt;dbl&gt; | avgRet014 &lt;dbl&gt; | stdRet014 &lt;dbl&gt; | avgRet021 &lt;dbl&gt; | stdRet021 &lt;dbl&gt; | avgRet030 &lt;dbl&gt; | stdRet030 &lt;dbl&gt; | avgRet060 &lt;dbl&gt; | stdRet060 &lt;dbl&gt; | avgRet090 &lt;dbl&gt; | stdRet090 &lt;dbl&gt; | avgRet120 &lt;dbl&gt; | stdRet120 &lt;dbl&gt; | avgRet150 &lt;dbl&gt; | stdRet150 &lt;dbl&gt; | avgRet180 &lt;dbl&gt; | stdRet180 &lt;dbl&gt; |\n",
       "|---|---|---|---|---|---|---|---|---|---|---|---|---|---|---|---|---|---|---|\n",
       "| 67518 | -0.0662 | 0.278 | -0.137 | 0.385 | -0.206 | 0.453 | -0.285 | 0.511 | -0.439 | 0.588 | -0.54 | 0.61 | -0.615 | 0.588 | -0.67 | 0.564 | -0.713 | 0.549 |\n",
       "\n"
      ],
      "text/plain": [
       "  Observations avgRet007 stdRet007 avgRet014 stdRet014 avgRet021 stdRet021\n",
       "1 67518        -0.0662   0.278     -0.137    0.385     -0.206    0.453    \n",
       "  avgRet030 stdRet030 avgRet060 stdRet060 avgRet090 stdRet090 avgRet120\n",
       "1 -0.285    0.511     -0.439    0.588     -0.54     0.61      -0.615   \n",
       "  stdRet120 avgRet150 stdRet150 avgRet180 stdRet180\n",
       "1 0.588     -0.67     0.564     -0.713    0.549    "
      ]
     },
     "metadata": {},
     "output_type": "display_data"
    },
    {
     "data": {
      "text/html": [
       "<table>\n",
       "<caption>A data.frame: 1 × 19</caption>\n",
       "<thead>\n",
       "\t<tr><th scope=col>Observations</th><th scope=col>avgRet007</th><th scope=col>stdRet007</th><th scope=col>avgRet014</th><th scope=col>stdRet014</th><th scope=col>avgRet021</th><th scope=col>stdRet021</th><th scope=col>avgRet030</th><th scope=col>stdRet030</th><th scope=col>avgRet060</th><th scope=col>stdRet060</th><th scope=col>avgRet090</th><th scope=col>stdRet090</th><th scope=col>avgRet120</th><th scope=col>stdRet120</th><th scope=col>avgRet150</th><th scope=col>stdRet150</th><th scope=col>avgRet180</th><th scope=col>stdRet180</th></tr>\n",
       "\t<tr><th scope=col>&lt;dbl&gt;</th><th scope=col>&lt;dbl&gt;</th><th scope=col>&lt;dbl&gt;</th><th scope=col>&lt;dbl&gt;</th><th scope=col>&lt;dbl&gt;</th><th scope=col>&lt;dbl&gt;</th><th scope=col>&lt;dbl&gt;</th><th scope=col>&lt;dbl&gt;</th><th scope=col>&lt;dbl&gt;</th><th scope=col>&lt;dbl&gt;</th><th scope=col>&lt;dbl&gt;</th><th scope=col>&lt;dbl&gt;</th><th scope=col>&lt;dbl&gt;</th><th scope=col>&lt;dbl&gt;</th><th scope=col>&lt;dbl&gt;</th><th scope=col>&lt;dbl&gt;</th><th scope=col>&lt;dbl&gt;</th><th scope=col>&lt;dbl&gt;</th><th scope=col>&lt;dbl&gt;</th></tr>\n",
       "</thead>\n",
       "<tbody>\n",
       "\t<tr><td>273497</td><td>-0.0421</td><td>0.22</td><td>-0.0798</td><td>0.297</td><td>-0.113</td><td>0.35</td><td>-0.154</td><td>0.4</td><td>-0.267</td><td>0.499</td><td>-0.358</td><td>0.549</td><td>-0.435</td><td>0.573</td><td>-0.5</td><td>0.586</td><td>-0.555</td><td>0.589</td></tr>\n",
       "</tbody>\n",
       "</table>\n"
      ],
      "text/latex": [
       "A data.frame: 1 × 19\n",
       "\\begin{tabular}{lllllllllllllllllll}\n",
       " Observations & avgRet007 & stdRet007 & avgRet014 & stdRet014 & avgRet021 & stdRet021 & avgRet030 & stdRet030 & avgRet060 & stdRet060 & avgRet090 & stdRet090 & avgRet120 & stdRet120 & avgRet150 & stdRet150 & avgRet180 & stdRet180\\\\\n",
       " <dbl> & <dbl> & <dbl> & <dbl> & <dbl> & <dbl> & <dbl> & <dbl> & <dbl> & <dbl> & <dbl> & <dbl> & <dbl> & <dbl> & <dbl> & <dbl> & <dbl> & <dbl> & <dbl>\\\\\n",
       "\\hline\n",
       "\t 273497 & -0.0421 & 0.22 & -0.0798 & 0.297 & -0.113 & 0.35 & -0.154 & 0.4 & -0.267 & 0.499 & -0.358 & 0.549 & -0.435 & 0.573 & -0.5 & 0.586 & -0.555 & 0.589\\\\\n",
       "\\end{tabular}\n"
      ],
      "text/markdown": [
       "\n",
       "A data.frame: 1 × 19\n",
       "\n",
       "| Observations &lt;dbl&gt; | avgRet007 &lt;dbl&gt; | stdRet007 &lt;dbl&gt; | avgRet014 &lt;dbl&gt; | stdRet014 &lt;dbl&gt; | avgRet021 &lt;dbl&gt; | stdRet021 &lt;dbl&gt; | avgRet030 &lt;dbl&gt; | stdRet030 &lt;dbl&gt; | avgRet060 &lt;dbl&gt; | stdRet060 &lt;dbl&gt; | avgRet090 &lt;dbl&gt; | stdRet090 &lt;dbl&gt; | avgRet120 &lt;dbl&gt; | stdRet120 &lt;dbl&gt; | avgRet150 &lt;dbl&gt; | stdRet150 &lt;dbl&gt; | avgRet180 &lt;dbl&gt; | stdRet180 &lt;dbl&gt; |\n",
       "|---|---|---|---|---|---|---|---|---|---|---|---|---|---|---|---|---|---|---|\n",
       "| 273497 | -0.0421 | 0.22 | -0.0798 | 0.297 | -0.113 | 0.35 | -0.154 | 0.4 | -0.267 | 0.499 | -0.358 | 0.549 | -0.435 | 0.573 | -0.5 | 0.586 | -0.555 | 0.589 |\n",
       "\n"
      ],
      "text/plain": [
       "  Observations avgRet007 stdRet007 avgRet014 stdRet014 avgRet021 stdRet021\n",
       "1 273497       -0.0421   0.22      -0.0798   0.297     -0.113    0.35     \n",
       "  avgRet030 stdRet030 avgRet060 stdRet060 avgRet090 stdRet090 avgRet120\n",
       "1 -0.154    0.4       -0.267    0.499     -0.358    0.549     -0.435   \n",
       "  stdRet120 avgRet150 stdRet150 avgRet180 stdRet180\n",
       "1 0.573     -0.5      0.586     -0.555    0.589    "
      ]
     },
     "metadata": {},
     "output_type": "display_data"
    },
    {
     "data": {
      "text/html": [
       "<table>\n",
       "<caption>A data.frame: 1 × 19</caption>\n",
       "<thead>\n",
       "\t<tr><th scope=col>Observations</th><th scope=col>avgRet007</th><th scope=col>stdRet007</th><th scope=col>avgRet014</th><th scope=col>stdRet014</th><th scope=col>avgRet021</th><th scope=col>stdRet021</th><th scope=col>avgRet030</th><th scope=col>stdRet030</th><th scope=col>avgRet060</th><th scope=col>stdRet060</th><th scope=col>avgRet090</th><th scope=col>stdRet090</th><th scope=col>avgRet120</th><th scope=col>stdRet120</th><th scope=col>avgRet150</th><th scope=col>stdRet150</th><th scope=col>avgRet180</th><th scope=col>stdRet180</th></tr>\n",
       "\t<tr><th scope=col>&lt;dbl&gt;</th><th scope=col>&lt;dbl&gt;</th><th scope=col>&lt;dbl&gt;</th><th scope=col>&lt;dbl&gt;</th><th scope=col>&lt;dbl&gt;</th><th scope=col>&lt;dbl&gt;</th><th scope=col>&lt;dbl&gt;</th><th scope=col>&lt;dbl&gt;</th><th scope=col>&lt;dbl&gt;</th><th scope=col>&lt;dbl&gt;</th><th scope=col>&lt;dbl&gt;</th><th scope=col>&lt;dbl&gt;</th><th scope=col>&lt;dbl&gt;</th><th scope=col>&lt;dbl&gt;</th><th scope=col>&lt;dbl&gt;</th><th scope=col>&lt;dbl&gt;</th><th scope=col>&lt;dbl&gt;</th><th scope=col>&lt;dbl&gt;</th><th scope=col>&lt;dbl&gt;</th></tr>\n",
       "</thead>\n",
       "<tbody>\n",
       "\t<tr><td>217401</td><td>-0.0569</td><td>0.255</td><td>-0.11</td><td>0.346</td><td>-0.159</td><td>0.405</td><td>-0.215</td><td>0.459</td><td>-0.351</td><td>0.547</td><td>-0.447</td><td>0.583</td><td>-0.523</td><td>0.587</td><td>-0.582</td><td>0.584</td><td>-0.633</td><td>0.576</td></tr>\n",
       "</tbody>\n",
       "</table>\n"
      ],
      "text/latex": [
       "A data.frame: 1 × 19\n",
       "\\begin{tabular}{lllllllllllllllllll}\n",
       " Observations & avgRet007 & stdRet007 & avgRet014 & stdRet014 & avgRet021 & stdRet021 & avgRet030 & stdRet030 & avgRet060 & stdRet060 & avgRet090 & stdRet090 & avgRet120 & stdRet120 & avgRet150 & stdRet150 & avgRet180 & stdRet180\\\\\n",
       " <dbl> & <dbl> & <dbl> & <dbl> & <dbl> & <dbl> & <dbl> & <dbl> & <dbl> & <dbl> & <dbl> & <dbl> & <dbl> & <dbl> & <dbl> & <dbl> & <dbl> & <dbl> & <dbl>\\\\\n",
       "\\hline\n",
       "\t 217401 & -0.0569 & 0.255 & -0.11 & 0.346 & -0.159 & 0.405 & -0.215 & 0.459 & -0.351 & 0.547 & -0.447 & 0.583 & -0.523 & 0.587 & -0.582 & 0.584 & -0.633 & 0.576\\\\\n",
       "\\end{tabular}\n"
      ],
      "text/markdown": [
       "\n",
       "A data.frame: 1 × 19\n",
       "\n",
       "| Observations &lt;dbl&gt; | avgRet007 &lt;dbl&gt; | stdRet007 &lt;dbl&gt; | avgRet014 &lt;dbl&gt; | stdRet014 &lt;dbl&gt; | avgRet021 &lt;dbl&gt; | stdRet021 &lt;dbl&gt; | avgRet030 &lt;dbl&gt; | stdRet030 &lt;dbl&gt; | avgRet060 &lt;dbl&gt; | stdRet060 &lt;dbl&gt; | avgRet090 &lt;dbl&gt; | stdRet090 &lt;dbl&gt; | avgRet120 &lt;dbl&gt; | stdRet120 &lt;dbl&gt; | avgRet150 &lt;dbl&gt; | stdRet150 &lt;dbl&gt; | avgRet180 &lt;dbl&gt; | stdRet180 &lt;dbl&gt; |\n",
       "|---|---|---|---|---|---|---|---|---|---|---|---|---|---|---|---|---|---|---|\n",
       "| 217401 | -0.0569 | 0.255 | -0.11 | 0.346 | -0.159 | 0.405 | -0.215 | 0.459 | -0.351 | 0.547 | -0.447 | 0.583 | -0.523 | 0.587 | -0.582 | 0.584 | -0.633 | 0.576 |\n",
       "\n"
      ],
      "text/plain": [
       "  Observations avgRet007 stdRet007 avgRet014 stdRet014 avgRet021 stdRet021\n",
       "1 217401       -0.0569   0.255     -0.11     0.346     -0.159    0.405    \n",
       "  avgRet030 stdRet030 avgRet060 stdRet060 avgRet090 stdRet090 avgRet120\n",
       "1 -0.215    0.459     -0.351    0.547     -0.447    0.583     -0.523   \n",
       "  stdRet120 avgRet150 stdRet150 avgRet180 stdRet180\n",
       "1 0.587     -0.582    0.584     -0.633    0.576    "
      ]
     },
     "metadata": {},
     "output_type": "display_data"
    },
    {
     "data": {
      "text/html": [
       "<table>\n",
       "<caption>A data.frame: 1 × 19</caption>\n",
       "<thead>\n",
       "\t<tr><th scope=col>Observations</th><th scope=col>avgRet007</th><th scope=col>stdRet007</th><th scope=col>avgRet014</th><th scope=col>stdRet014</th><th scope=col>avgRet021</th><th scope=col>stdRet021</th><th scope=col>avgRet030</th><th scope=col>stdRet030</th><th scope=col>avgRet060</th><th scope=col>stdRet060</th><th scope=col>avgRet090</th><th scope=col>stdRet090</th><th scope=col>avgRet120</th><th scope=col>stdRet120</th><th scope=col>avgRet150</th><th scope=col>stdRet150</th><th scope=col>avgRet180</th><th scope=col>stdRet180</th></tr>\n",
       "\t<tr><th scope=col>&lt;dbl&gt;</th><th scope=col>&lt;dbl&gt;</th><th scope=col>&lt;dbl&gt;</th><th scope=col>&lt;dbl&gt;</th><th scope=col>&lt;dbl&gt;</th><th scope=col>&lt;dbl&gt;</th><th scope=col>&lt;dbl&gt;</th><th scope=col>&lt;dbl&gt;</th><th scope=col>&lt;dbl&gt;</th><th scope=col>&lt;dbl&gt;</th><th scope=col>&lt;dbl&gt;</th><th scope=col>&lt;dbl&gt;</th><th scope=col>&lt;dbl&gt;</th><th scope=col>&lt;dbl&gt;</th><th scope=col>&lt;dbl&gt;</th><th scope=col>&lt;dbl&gt;</th><th scope=col>&lt;dbl&gt;</th><th scope=col>&lt;dbl&gt;</th><th scope=col>&lt;dbl&gt;</th></tr>\n",
       "</thead>\n",
       "<tbody>\n",
       "\t<tr><td>123614</td><td>-0.0292</td><td>0.186</td><td>-0.0572</td><td>0.256</td><td>-0.084</td><td>0.307</td><td>-0.117</td><td>0.357</td><td>-0.214</td><td>0.464</td><td>-0.301</td><td>0.524</td><td>-0.378</td><td>0.558</td><td>-0.447</td><td>0.578</td><td>-0.505</td><td>0.591</td></tr>\n",
       "</tbody>\n",
       "</table>\n"
      ],
      "text/latex": [
       "A data.frame: 1 × 19\n",
       "\\begin{tabular}{lllllllllllllllllll}\n",
       " Observations & avgRet007 & stdRet007 & avgRet014 & stdRet014 & avgRet021 & stdRet021 & avgRet030 & stdRet030 & avgRet060 & stdRet060 & avgRet090 & stdRet090 & avgRet120 & stdRet120 & avgRet150 & stdRet150 & avgRet180 & stdRet180\\\\\n",
       " <dbl> & <dbl> & <dbl> & <dbl> & <dbl> & <dbl> & <dbl> & <dbl> & <dbl> & <dbl> & <dbl> & <dbl> & <dbl> & <dbl> & <dbl> & <dbl> & <dbl> & <dbl> & <dbl>\\\\\n",
       "\\hline\n",
       "\t 123614 & -0.0292 & 0.186 & -0.0572 & 0.256 & -0.084 & 0.307 & -0.117 & 0.357 & -0.214 & 0.464 & -0.301 & 0.524 & -0.378 & 0.558 & -0.447 & 0.578 & -0.505 & 0.591\\\\\n",
       "\\end{tabular}\n"
      ],
      "text/markdown": [
       "\n",
       "A data.frame: 1 × 19\n",
       "\n",
       "| Observations &lt;dbl&gt; | avgRet007 &lt;dbl&gt; | stdRet007 &lt;dbl&gt; | avgRet014 &lt;dbl&gt; | stdRet014 &lt;dbl&gt; | avgRet021 &lt;dbl&gt; | stdRet021 &lt;dbl&gt; | avgRet030 &lt;dbl&gt; | stdRet030 &lt;dbl&gt; | avgRet060 &lt;dbl&gt; | stdRet060 &lt;dbl&gt; | avgRet090 &lt;dbl&gt; | stdRet090 &lt;dbl&gt; | avgRet120 &lt;dbl&gt; | stdRet120 &lt;dbl&gt; | avgRet150 &lt;dbl&gt; | stdRet150 &lt;dbl&gt; | avgRet180 &lt;dbl&gt; | stdRet180 &lt;dbl&gt; |\n",
       "|---|---|---|---|---|---|---|---|---|---|---|---|---|---|---|---|---|---|---|\n",
       "| 123614 | -0.0292 | 0.186 | -0.0572 | 0.256 | -0.084 | 0.307 | -0.117 | 0.357 | -0.214 | 0.464 | -0.301 | 0.524 | -0.378 | 0.558 | -0.447 | 0.578 | -0.505 | 0.591 |\n",
       "\n"
      ],
      "text/plain": [
       "  Observations avgRet007 stdRet007 avgRet014 stdRet014 avgRet021 stdRet021\n",
       "1 123614       -0.0292   0.186     -0.0572   0.256     -0.084    0.307    \n",
       "  avgRet030 stdRet030 avgRet060 stdRet060 avgRet090 stdRet090 avgRet120\n",
       "1 -0.117    0.357     -0.214    0.464     -0.301    0.524     -0.378   \n",
       "  stdRet120 avgRet150 stdRet150 avgRet180 stdRet180\n",
       "1 0.558     -0.447    0.578     -0.505    0.591    "
      ]
     },
     "metadata": {},
     "output_type": "display_data"
    }
   ],
   "source": [
    "ageLt030 = getC2ScoreDbData(\"call GetSystemsByAge(30, 1)\");\n",
    "ageLt030\n",
    "ageGt030 = getC2ScoreDbData(\"call GetSystemsByAge(30, 0)\");\n",
    "ageGt030\n",
    "\n",
    "ageLt180 = getC2ScoreDbData(\"call GetSystemsByAge(180, 1)\");\n",
    "ageLt180\n",
    "ageGt180 = getC2ScoreDbData(\"call GetSystemsByAge(180, 0)\");\n",
    "ageGt180"
   ]
  },
  {
   "cell_type": "code",
   "execution_count": 94,
   "metadata": {},
   "outputs": [
    {
     "name": "stdout",
     "output_type": "stream",
     "text": [
      "H0: Age <= 30 has no effect to 7 days returns\n",
      "H1: Age <= 30 causes different 7 days returns\n",
      "[1] \"Reject H0\"\n",
      "[1] \"Z statistic\"\n",
      "[1] 22.2\n",
      "[1] \"z critical values\"\n",
      "[1] -1.96  1.96\n",
      "[1] \"P value\"\n",
      "[1] 0\n",
      "[1] \"#####################\"\n"
     ]
    },
    {
     "data": {
      "text/html": [
       "22.1577740197598"
      ],
      "text/latex": [
       "22.1577740197598"
      ],
      "text/markdown": [
       "22.1577740197598"
      ],
      "text/plain": [
       "[1] 22.2"
      ]
     },
     "metadata": {},
     "output_type": "display_data"
    },
    {
     "name": "stdout",
     "output_type": "stream",
     "text": [
      "H0: Age > 30 has no effect to 7 days returns\n",
      "H1: Age > 30 causes different 7 days returns\n",
      "[1] \"Reject H0\"\n",
      "[1] \"Z statistic\"\n",
      "[1] 15.8\n",
      "[1] \"z critical values\"\n",
      "[1] -1.96  1.96\n",
      "[1] \"P value\"\n",
      "[1] 0\n",
      "[1] \"#####################\"\n"
     ]
    },
    {
     "data": {
      "text/html": [
       "15.8193128677041"
      ],
      "text/latex": [
       "15.8193128677041"
      ],
      "text/markdown": [
       "15.8193128677041"
      ],
      "text/plain": [
       "[1] 15.8"
      ]
     },
     "metadata": {},
     "output_type": "display_data"
    },
    {
     "name": "stdout",
     "output_type": "stream",
     "text": [
      "H0: Age <= 30 has no effect to 180 days returns\n",
      "H1: Age <= 30 causes different 180 days returns\n",
      "[1] \"Reject H0\"\n",
      "[1] \"Z statistic\"\n",
      "[1] 115\n",
      "[1] \"z critical values\"\n",
      "[1] -1.96  1.96\n",
      "[1] \"P value\"\n",
      "[1] 0\n",
      "[1] \"#####################\"\n"
     ]
    },
    {
     "data": {
      "text/html": [
       "114.582768759776"
      ],
      "text/latex": [
       "114.582768759776"
      ],
      "text/markdown": [
       "114.582768759776"
      ],
      "text/plain": [
       "[1] 115"
      ]
     },
     "metadata": {},
     "output_type": "display_data"
    },
    {
     "name": "stdout",
     "output_type": "stream",
     "text": [
      "H0: Age > 30 has no effect to 180 days returns\n",
      "H1: Age > 30 causes different 180 days returns\n",
      "[1] \"Reject H0\"\n",
      "[1] \"Z statistic\"\n",
      "[1] 124\n",
      "[1] \"z critical values\"\n",
      "[1] -1.96  1.96\n",
      "[1] \"P value\"\n",
      "[1] 0\n",
      "[1] \"#####################\"\n"
     ]
    },
    {
     "data": {
      "text/html": [
       "123.761818961525"
      ],
      "text/latex": [
       "123.761818961525"
      ],
      "text/markdown": [
       "123.761818961525"
      ],
      "text/plain": [
       "[1] 124"
      ]
     },
     "metadata": {},
     "output_type": "display_data"
    },
    {
     "name": "stdout",
     "output_type": "stream",
     "text": [
      "----------------------\n",
      "xxxxxxxxxH0: Population 7 days average return is >= than return of systems having Age <= 30 (selected are worse)\n",
      "xxxxxxxxxH1: Population 7 days average return < than return of systems having Age <= 30 (selected are better)\n",
      "[1] \"Accept H0\"\n",
      "[1] \"Z statistic\"\n",
      "[1] 22.2\n",
      "[1] \"z critical value\"\n",
      "[1] -1.64\n",
      "[1] \"P value\"\n",
      "[1] 1\n",
      "[1] \"#####################\"\n"
     ]
    },
    {
     "data": {
      "text/html": [
       "22.1577740197598"
      ],
      "text/latex": [
       "22.1577740197598"
      ],
      "text/markdown": [
       "22.1577740197598"
      ],
      "text/plain": [
       "[1] 22.2"
      ]
     },
     "metadata": {},
     "output_type": "display_data"
    },
    {
     "name": "stdout",
     "output_type": "stream",
     "text": [
      "yyyyyyyyH0: Population 7 days average return is <= than return of systems having Age <= 30 (selected are better)\n",
      "yyyyyyyyH1: Population 7 days average return > than return of systems having Age <= 30 (selected are worse)\n",
      "[1] \"Reject H0\"\n",
      "[1] \"Z statistic\"\n",
      "[1] 22.2\n",
      "[1] \"z critical value\"\n",
      "[1] 1.64\n",
      "[1] \"P value\"\n",
      "[1] 0\n",
      "[1] \"#####################\"\n"
     ]
    },
    {
     "data": {
      "text/html": [
       "22.1577740197598"
      ],
      "text/latex": [
       "22.1577740197598"
      ],
      "text/markdown": [
       "22.1577740197598"
      ],
      "text/plain": [
       "[1] 22.2"
      ]
     },
     "metadata": {},
     "output_type": "display_data"
    },
    {
     "name": "stdout",
     "output_type": "stream",
     "text": [
      "aaaaaaaaaH0: Population 180 days average return is >= than return of systems having Age <= 30 (selected are worse)\n",
      "aaaaaaaaaH1: Population 180 days average return < than return of systems having Age <= 30 (selected are better)\n",
      "[1] \"Accept H0\"\n",
      "[1] \"Z statistic\"\n",
      "[1] 115\n",
      "[1] \"z critical value\"\n",
      "[1] -1.64\n",
      "[1] \"P value\"\n",
      "[1] 1\n",
      "[1] \"#####################\"\n"
     ]
    },
    {
     "data": {
      "text/html": [
       "114.582768759776"
      ],
      "text/latex": [
       "114.582768759776"
      ],
      "text/markdown": [
       "114.582768759776"
      ],
      "text/plain": [
       "[1] 115"
      ]
     },
     "metadata": {},
     "output_type": "display_data"
    },
    {
     "name": "stdout",
     "output_type": "stream",
     "text": [
      "bbbbbbbbbH0: Population 180 days average return is <= than return of systems having Age <= 30 (selected are better)\n",
      "bbbbbbbbbH1: Population 180 days average return > than return of systems having Age <= 30 (selected are worse)\n",
      "[1] \"Reject H0\"\n",
      "[1] \"Z statistic\"\n",
      "[1] 115\n",
      "[1] \"z critical value\"\n",
      "[1] 1.64\n",
      "[1] \"P value\"\n",
      "[1] 0\n",
      "[1] \"#####################\"\n"
     ]
    },
    {
     "data": {
      "text/html": [
       "114.582768759776"
      ],
      "text/latex": [
       "114.582768759776"
      ],
      "text/markdown": [
       "114.582768759776"
      ],
      "text/plain": [
       "[1] 115"
      ]
     },
     "metadata": {},
     "output_type": "display_data"
    },
    {
     "name": "stdout",
     "output_type": "stream",
     "text": [
      "---------- TODO ------------\n",
      "---------- Age <= 180 days ------------\n",
      "qqqqqqqqqH0: Population 7 days average return is >= than return of systems having Age <= 180 (selected are worse)\n",
      "qqqqqqqqqH1: Population 7 days average return < than return of systems having Age <= 180 (selected are better)\n",
      "[1] \"Accept H0\"\n",
      "[1] \"Z statistic\"\n",
      "[1] 29.9\n",
      "[1] \"z critical value\"\n",
      "[1] -1.64\n",
      "[1] \"P value\"\n",
      "[1] 1\n",
      "[1] \"#####################\"\n"
     ]
    },
    {
     "data": {
      "text/html": [
       "29.8898521487796"
      ],
      "text/latex": [
       "29.8898521487796"
      ],
      "text/markdown": [
       "29.8898521487796"
      ],
      "text/plain": [
       "[1] 29.9"
      ]
     },
     "metadata": {},
     "output_type": "display_data"
    },
    {
     "name": "stdout",
     "output_type": "stream",
     "text": [
      "wwwwwwwwH0: Population 7 days average return is <= than return of systems having Age <= 180 (selected are better)\n",
      "wwwwwwwwH1: Population 7 days average return > than return of systems having Age <= 180 (selected are worse)\n",
      "[1] \"Reject H0\"\n",
      "[1] \"Z statistic\"\n",
      "[1] 29.9\n",
      "[1] \"z critical value\"\n",
      "[1] 1.64\n",
      "[1] \"P value\"\n",
      "[1] 0\n",
      "[1] \"#####################\"\n"
     ]
    },
    {
     "data": {
      "text/html": [
       "29.8898521487796"
      ],
      "text/latex": [
       "29.8898521487796"
      ],
      "text/markdown": [
       "29.8898521487796"
      ],
      "text/plain": [
       "[1] 29.9"
      ]
     },
     "metadata": {},
     "output_type": "display_data"
    },
    {
     "name": "stdout",
     "output_type": "stream",
     "text": [
      "H0: Age <= 180 has no effect or causes better 180 days returns\n",
      "H1: Age <= 180 causes worse 180 days returns\n",
      "[1] \"Reject H0\"\n",
      "[1] \"Z statistic\"\n",
      "[1] -160\n",
      "[1] \"z critical value\"\n",
      "[1] -1.64\n",
      "[1] \"P value\"\n",
      "[1] 0\n",
      "[1] \"#####################\"\n"
     ]
    },
    {
     "data": {
      "text/html": [
       "-160.17889110133"
      ],
      "text/latex": [
       "-160.17889110133"
      ],
      "text/markdown": [
       "-160.17889110133"
      ],
      "text/plain": [
       "[1] -160"
      ]
     },
     "metadata": {},
     "output_type": "display_data"
    },
    {
     "name": "stdout",
     "output_type": "stream",
     "text": [
      "H0: Age <= 180 has no effect or causes worse 180 days returns\n",
      "H1: Age <= 180 causes better 180 days returns\n",
      "[1] \"Accept H0\"\n",
      "[1] \"Z statistic\"\n",
      "[1] -160\n",
      "[1] \"z critical value\"\n",
      "[1] 1.64\n",
      "[1] \"P value\"\n",
      "[1] 1\n",
      "[1] \"#####################\"\n"
     ]
    },
    {
     "data": {
      "text/html": [
       "-160.17889110133"
      ],
      "text/latex": [
       "-160.17889110133"
      ],
      "text/markdown": [
       "-160.17889110133"
      ],
      "text/plain": [
       "[1] -160"
      ]
     },
     "metadata": {},
     "output_type": "display_data"
    },
    {
     "name": "stdout",
     "output_type": "stream",
     "text": [
      "---------- Age > 180 days ------------\n",
      "gggggggggH0: Population 7 days average return is >= than return of systems having Age > 180 (selected are worse)\n",
      "gggggggggH1: Population 7 days average return < than return of systems having Age > 180 (selected are better)\n",
      "[1] \"Accept H0\"\n",
      "[1] \"Z statistic\"\n",
      "[1] 0.267\n",
      "[1] \"z critical value\"\n",
      "[1] -1.64\n",
      "[1] \"P value\"\n",
      "[1] 0.605\n",
      "[1] \"#####################\"\n"
     ]
    },
    {
     "data": {
      "text/html": [
       "0.267405572150555"
      ],
      "text/latex": [
       "0.267405572150555"
      ],
      "text/markdown": [
       "0.267405572150555"
      ],
      "text/plain": [
       "[1] 0.267"
      ]
     },
     "metadata": {},
     "output_type": "display_data"
    },
    {
     "name": "stdout",
     "output_type": "stream",
     "text": [
      "uuuuuuuuH0: Population 7 days average return is <= than return of systems having Age > 180 (selected are better)\n",
      "uuuuuuuuH1: Population 7 days average return > than return of systems having Age > 180 (selected are worse)\n",
      "[1] \"Accept H0\"\n",
      "[1] \"Z statistic\"\n",
      "[1] 0.267\n",
      "[1] \"z critical value\"\n",
      "[1] 1.64\n",
      "[1] \"P value\"\n",
      "[1] 0.395\n",
      "[1] \"#####################\"\n"
     ]
    },
    {
     "data": {
      "text/html": [
       "0.267405572150555"
      ],
      "text/latex": [
       "0.267405572150555"
      ],
      "text/markdown": [
       "0.267405572150555"
      ],
      "text/plain": [
       "[1] 0.267"
      ]
     },
     "metadata": {},
     "output_type": "display_data"
    },
    {
     "name": "stdout",
     "output_type": "stream",
     "text": [
      "hhhhhhhhhH0: Population 180 days average return is >= than return of systems having Age > 180 (selected are worse)\n",
      "hhhhhhhhhH1: Population 180 days average return < than return of systems having Age > 180 (selected are better)\n",
      "[1] \"Accept H0\"\n",
      "[1] \"Z statistic\"\n",
      "[1] 60.5\n",
      "[1] \"z critical value\"\n",
      "[1] -1.64\n",
      "[1] \"P value\"\n",
      "[1] 1\n",
      "[1] \"#####################\"\n"
     ]
    },
    {
     "data": {
      "text/html": [
       "60.4894743140089"
      ],
      "text/latex": [
       "60.4894743140089"
      ],
      "text/markdown": [
       "60.4894743140089"
      ],
      "text/plain": [
       "[1] 60.5"
      ]
     },
     "metadata": {},
     "output_type": "display_data"
    },
    {
     "name": "stdout",
     "output_type": "stream",
     "text": [
      "zzzzzzzzH0: Population 180 days average return is <= than return of systems having Age > 180 (selected are better)\n",
      "zzzzzzzzH1: Population 180 days average return > than return of systems having Age > 180 (selected are worse)\n",
      "[1] \"Reject H0\"\n",
      "[1] \"Z statistic\"\n",
      "[1] 60.5\n",
      "[1] \"z critical value\"\n",
      "[1] 1.64\n",
      "[1] \"P value\"\n",
      "[1] 0\n",
      "[1] \"#####################\"\n"
     ]
    },
    {
     "data": {
      "text/html": [
       "60.4894743140089"
      ],
      "text/latex": [
       "60.4894743140089"
      ],
      "text/markdown": [
       "60.4894743140089"
      ],
      "text/plain": [
       "[1] 60.5"
      ]
     },
     "metadata": {},
     "output_type": "display_data"
    }
   ],
   "source": [
    "#z.test.left(-0.0289, ageGt180$Observations, ageGt180$avgRet007, 0.278,0.05)\n",
    "cat(\"H0: Age <= 30 has no effect to 7 days returns\\n\")\n",
    "cat(\"H1: Age <= 30 causes different 7 days returns\\n\")\n",
    "z.test.twoTails(ageLt030$avgRet007, ageLt030$Observations, -0.0289, 0.191, 0.05)\n",
    "\n",
    "cat(\"H0: Age > 30 has no effect to 7 days returns\\n\")\n",
    "cat(\"H1: Age > 30 causes different 7 days returns\\n\")\n",
    "z.test.twoTails(-0.0289, ageGt030$Observations, ageGt030$avgRet007, 0.191, 0.05)\n",
    "\n",
    "cat(\"H0: Age <= 30 has no effect to 180 days returns\\n\")\n",
    "cat(\"H1: Age <= 30 causes different 180 days returns\\n\")\n",
    "z.test.twoTails(-0.3722,  ageLt030$Observations, ageLt030$avgRet180, 0.599, 0.05)\n",
    "\n",
    "cat(\"H0: Age > 30 has no effect to 180 days returns\\n\")\n",
    "cat(\"H1: Age > 30 causes different 180 days returns\\n\")\n",
    "z.test.twoTails(-0.3722, ageGt030$Observations, ageGt030$avgRet180, 0.599, 0.05)\n",
    "\n",
    "cat(\"----------------------\\n\")\n",
    "# Left tail test\n",
    "# H0: mu >= mu0\n",
    "# H1: mu < mu0\n",
    "cat(\"xxxxxxxxxH0: 7 days return of systems having Age <= 30 is the same (or less) than population return\\n\")\n",
    "cat(\"xxxxxxxxxH1: 7 days return of systems having Age <= 30 is greater than population 7 days\\n\")\n",
    "z.test.left(-0.0289, ageLt030$Observations, ageLt030$avgRet007, 0.191, 0.05)\n",
    "\n",
    "# Right tail test\n",
    "# H0: mu <= mu0\n",
    "# H1: mu > mu0\n",
    "cat(\"yyyyyyyyH0: Population 7 days average return is <= than return of systems having Age <= 30 (selected are better)\\n\")\n",
    "cat(\"yyyyyyyyH1: Population 7 days average return > than return of systems having Age <= 30 (selected are worse)\\n\")\n",
    "z.test.right(-0.0289, ageLt030$Observations, ageLt030$avgRet007, 0.191, 0.05)\n",
    "\n",
    "cat(\"aaaaaaaaaH0: Population 180 days average return is >= than return of systems having Age <= 30 (selected are worse)\\n\")\n",
    "cat(\"aaaaaaaaaH1: Population 180 days average return < than return of systems having Age <= 30 (selected are better)\\n\")\n",
    "z.test.left(-0.3722, ageLt030$Observations, ageLt030$avgRet180, 0.599, 0.05)\n",
    "\n",
    "cat(\"bbbbbbbbbH0: Population 180 days average return is <= than return of systems having Age <= 30 (selected are better)\\n\")\n",
    "cat(\"bbbbbbbbbH1: Population 180 days average return > than return of systems having Age <= 30 (selected are worse)\\n\")\n",
    "z.test.right(-0.3722, ageLt030$Observations, ageLt030$avgRet180, 0.599, 0.05)\n",
    "\n",
    "cat(\"---------- TODO ------------\\n\")\n",
    "skip = '\n",
    "cat(\"H1: Age > 30 causes worse 7 days returns\\n\")\n",
    "z.test.left(ageGt030$avgRet007,ageGt030$Observations, -0.0289, ageGt030$stdRet007,0.05)\n",
    "cat(\"H1: Age > 30 causes better 7 days returns\\n\")\n",
    "z.test.right(ageGt030$avgRet007,ageGt030$Observations, -0.0289, ageGt030$stdRet007,0.05)\n",
    "\n",
    "cat(\"H1: Age > 30 causes worse 180 days returns\\n\")\n",
    "z.test.left(ageGt030$avgRet180,ageGt030$Observations, -0.3722, ageGt030$stdRet180,0.05)\n",
    "cat(\"H1: Age > 30 causes better 180 days returns\\n\")\n",
    "z.test.right(ageGt030$avgRet180,ageGt030$Observations, -0.3722, ageGt030$stdRet180,0.05)\n",
    "'\n",
    "cat(\"---------- Age <= 180 days ------------\\n\")\n",
    "\n",
    "cat(\"qqqqqqqqqH0: Population 7 days average return is >= than return of systems having Age <= 180 (selected are worse)\\n\")\n",
    "cat(\"qqqqqqqqqH1: Population 7 days average return < than return of systems having Age <= 180 (selected are better)\\n\")\n",
    "#cat(\"H0: Age <= 180 has no effect or causes better 7 days returns\\n\")\n",
    "#cat(\"H1: Age <= 180 causes worse 7 days returns\\n\")\n",
    "z.test.left(-0.0289,ageLt180$Observations, ageLt180$avgRet007, 0.191, 0.05)\n",
    "\n",
    "cat(\"wwwwwwwwH0: Population 7 days average return is <= than return of systems having Age <= 180 (selected are better)\\n\")\n",
    "cat(\"wwwwwwwwH1: Population 7 days average return > than return of systems having Age <= 180 (selected are worse)\\n\")\n",
    "#cat(\"H0: Age <= 180 has no effect or causes worse 7 days returns\\n\")\n",
    "#cat(\"H1: Age <= 180 causes better 7 days returns\\n\")\n",
    "z.test.right(-0.0289,ageLt180$Observations, ageLt180$avgRet007, 0.191,0.05)\n",
    "\n",
    "cat(\"H0: Age <= 180 has no effect or causes better 180 days returns\\n\")\n",
    "cat(\"H1: Age <= 180 causes worse 180 days returns\\n\")\n",
    "z.test.left(ageLt180$avgRet180,ageLt180$Observations, -0.3722, ageLt180$stdRet180,0.05)\n",
    "\n",
    "cat(\"H0: Age <= 180 has no effect or causes worse 180 days returns\\n\")\n",
    "cat(\"H1: Age <= 180 causes better 180 days returns\\n\")\n",
    "z.test.right(ageLt180$avgRet180,ageLt180$Observations, -0.3722, ageLt180$stdRet180,0.05)\n",
    "\n",
    "cat(\"---------- Age > 180 days ------------\\n\")\n",
    "\n",
    "# Left tail test\n",
    "# H0: mu >= mu0\n",
    "# H1: mu < mu0\n",
    "cat(\"gggggggggH0: Population 7 days average return is >= than return of systems having Age > 180 (selected are worse)\\n\")\n",
    "cat(\"gggggggggH1: Population 7 days average return < than return of systems having Age > 180 (selected are better)\\n\")\n",
    "#cat(\"H0: Age > 180 has no effect or causes worse 7 days returns\\n\")\n",
    "#cat(\"H1: Age > 180 causes better 7 days returns\\n\")\n",
    "z.test.left(-0.0289, ageGt180$Observations, ageGt180$avgRet007, 0.191,0.05)\n",
    "\n",
    "cat(\"uuuuuuuuH0: Population 7 days average return is <= than return of systems having Age > 180 (selected are better)\\n\")\n",
    "cat(\"uuuuuuuuH1: Population 7 days average return > than return of systems having Age > 180 (selected are worse)\\n\")\n",
    "#cat(\"H0: Age > 180 has no effect or causes better 7 days returns\\n\")\n",
    "#cat(\"H1: Age > 180 causes worse 7 days returns\\n\")\n",
    "z.test.right(-0.0289, ageGt180$Observations, ageGt180$avgRet007, 0.191, 0.05)\n",
    "\n",
    "cat(\"hhhhhhhhhH0: Population 180 days average return is >= than return of systems having Age > 180 (selected are worse)\\n\")\n",
    "cat(\"hhhhhhhhhH1: Population 180 days average return < than return of systems having Age > 180 (selected are better)\\n\")\n",
    "#cat(\"H0: Age > 180 has no effect or causes worse 180 days returns\\n\")\n",
    "#cat(\"H1: Age > 180 causes better 180 days returns\\n\")\n",
    "z.test.left(-0.3722, ageGt180$Observations, ageGt180$avgRet180, 0.599,0.05)\n",
    "\n",
    "cat(\"zzzzzzzzH0: Population 180 days average return is <= than return of systems having Age > 180 (selected are better)\\n\")\n",
    "cat(\"zzzzzzzzH1: Population 180 days average return > than return of systems having Age > 180 (selected are worse)\\n\")\n",
    "#cat(\"H0: Age > 180 has no effect or causes better 180 days returns\\n\")\n",
    "#cat(\"H1: Age > 180 causes worse 180 days returns\\n\")\n",
    "z.test.right(-0.3722, ageGt180$Observations, ageGt180$avgRet180, 0.599,0.05)\n",
    "\n"
   ]
  },
  {
   "cell_type": "code",
   "execution_count": 86,
   "metadata": {},
   "outputs": [
    {
     "data": {
      "image/png": "[encoded data removed]",
      "text/plain": [
       "plot without title"
      ]
     },
     "metadata": {
      "image/png": {
       "height": 480,
       "width": 900
      }
     },
     "output_type": "display_data"
    },
    {
     "data": {
      "image/png": "[encoded data removed]",
      "text/plain": [
       "plot without title"
      ]
     },
     "metadata": {
      "image/png": {
       "height": 480,
       "width": 900
      }
     },
     "output_type": "display_data"
    }
   ],
   "source": [
    "# Normal distribution Population Return007\n",
    "mean = -0.0289\n",
    "sd = 0.191\n",
    "# x = seq(-5,5,length=50)*sd + mean; hx = dnorm(x,mean,sd);plot(x, hx, type=\"l\")\n",
    "\n",
    "# Normal distribution  Return007 systems age <= 30\n",
    "mean = -0.0662\n",
    "sd = 0.278\n",
    "x = seq(-5,5,length=50)*sd + mean; hx = dnorm(x,mean,sd);plot(x, hx, type=\"l\")\n",
    "\n",
    "\n",
    "\n",
    "\n",
    "# Normal distribution Population Return180\n",
    "mean = -0.3722\n",
    "sd = 0.599\n",
    "x = seq(-5,5,length=50)*sd + mean; hx = dnorm(x,mean,sd);plot(x, hx, type=\"l\")\n",
    "\n",
    "# Normal distribution  Return180 systems age > 180\n",
    "mean = -0.505\n",
    "sd = 0.591\n",
    "\n",
    "# Normal distribution  Return180 systems age < 180\n",
    "\n",
    "mean = -0.633\n",
    "sd = 0.576\n",
    "\n",
    "# x = seq(-5,5,length=50)*sd + mean; hx = dnorm(x,mean,sd);plot(x, hx, type=\"l\")\n",
    "\n"
   ]
  },
  {
   "cell_type": "code",
   "execution_count": 33,
   "metadata": {},
   "outputs": [
    {
     "data": {
      "text/html": [
       "<table>\n",
       "<caption>A data.frame: 1 × 19</caption>\n",
       "<thead>\n",
       "\t<tr><th scope=col>Observations</th><th scope=col>avgRet007</th><th scope=col>stdRet007</th><th scope=col>avgRet014</th><th scope=col>stdRet014</th><th scope=col>avgRet021</th><th scope=col>stdRet021</th><th scope=col>avgRet030</th><th scope=col>stdRet030</th><th scope=col>avgRet060</th><th scope=col>stdRet060</th><th scope=col>avgRet090</th><th scope=col>stdRet090</th><th scope=col>avgRet120</th><th scope=col>stdRet120</th><th scope=col>avgRet150</th><th scope=col>stdRet150</th><th scope=col>avgRet180</th><th scope=col>stdRet180</th></tr>\n",
       "\t<tr><th scope=col>&lt;dbl&gt;</th><th scope=col>&lt;dbl&gt;</th><th scope=col>&lt;dbl&gt;</th><th scope=col>&lt;dbl&gt;</th><th scope=col>&lt;dbl&gt;</th><th scope=col>&lt;dbl&gt;</th><th scope=col>&lt;dbl&gt;</th><th scope=col>&lt;dbl&gt;</th><th scope=col>&lt;dbl&gt;</th><th scope=col>&lt;dbl&gt;</th><th scope=col>&lt;dbl&gt;</th><th scope=col>&lt;dbl&gt;</th><th scope=col>&lt;dbl&gt;</th><th scope=col>&lt;dbl&gt;</th><th scope=col>&lt;dbl&gt;</th><th scope=col>&lt;dbl&gt;</th><th scope=col>&lt;dbl&gt;</th><th scope=col>&lt;dbl&gt;</th><th scope=col>&lt;dbl&gt;</th></tr>\n",
       "</thead>\n",
       "<tbody>\n",
       "\t<tr><td>217401</td><td>-0.0569</td><td>0.255</td><td>-0.11</td><td>0.346</td><td>-0.159</td><td>0.405</td><td>-0.215</td><td>0.459</td><td>-0.351</td><td>0.547</td><td>-0.447</td><td>0.583</td><td>-0.523</td><td>0.587</td><td>-0.582</td><td>0.584</td><td>-0.633</td><td>0.576</td></tr>\n",
       "</tbody>\n",
       "</table>\n"
      ],
      "text/latex": [
       "A data.frame: 1 × 19\n",
       "\\begin{tabular}{lllllllllllllllllll}\n",
       " Observations & avgRet007 & stdRet007 & avgRet014 & stdRet014 & avgRet021 & stdRet021 & avgRet030 & stdRet030 & avgRet060 & stdRet060 & avgRet090 & stdRet090 & avgRet120 & stdRet120 & avgRet150 & stdRet150 & avgRet180 & stdRet180\\\\\n",
       " <dbl> & <dbl> & <dbl> & <dbl> & <dbl> & <dbl> & <dbl> & <dbl> & <dbl> & <dbl> & <dbl> & <dbl> & <dbl> & <dbl> & <dbl> & <dbl> & <dbl> & <dbl> & <dbl>\\\\\n",
       "\\hline\n",
       "\t 217401 & -0.0569 & 0.255 & -0.11 & 0.346 & -0.159 & 0.405 & -0.215 & 0.459 & -0.351 & 0.547 & -0.447 & 0.583 & -0.523 & 0.587 & -0.582 & 0.584 & -0.633 & 0.576\\\\\n",
       "\\end{tabular}\n"
      ],
      "text/markdown": [
       "\n",
       "A data.frame: 1 × 19\n",
       "\n",
       "| Observations &lt;dbl&gt; | avgRet007 &lt;dbl&gt; | stdRet007 &lt;dbl&gt; | avgRet014 &lt;dbl&gt; | stdRet014 &lt;dbl&gt; | avgRet021 &lt;dbl&gt; | stdRet021 &lt;dbl&gt; | avgRet030 &lt;dbl&gt; | stdRet030 &lt;dbl&gt; | avgRet060 &lt;dbl&gt; | stdRet060 &lt;dbl&gt; | avgRet090 &lt;dbl&gt; | stdRet090 &lt;dbl&gt; | avgRet120 &lt;dbl&gt; | stdRet120 &lt;dbl&gt; | avgRet150 &lt;dbl&gt; | stdRet150 &lt;dbl&gt; | avgRet180 &lt;dbl&gt; | stdRet180 &lt;dbl&gt; |\n",
       "|---|---|---|---|---|---|---|---|---|---|---|---|---|---|---|---|---|---|---|\n",
       "| 217401 | -0.0569 | 0.255 | -0.11 | 0.346 | -0.159 | 0.405 | -0.215 | 0.459 | -0.351 | 0.547 | -0.447 | 0.583 | -0.523 | 0.587 | -0.582 | 0.584 | -0.633 | 0.576 |\n",
       "\n"
      ],
      "text/plain": [
       "  Observations avgRet007 stdRet007 avgRet014 stdRet014 avgRet021 stdRet021\n",
       "1 217401       -0.0569   0.255     -0.11     0.346     -0.159    0.405    \n",
       "  avgRet030 stdRet030 avgRet060 stdRet060 avgRet090 stdRet090 avgRet120\n",
       "1 -0.215    0.459     -0.351    0.547     -0.447    0.583     -0.523   \n",
       "  stdRet120 avgRet150 stdRet150 avgRet180 stdRet180\n",
       "1 0.587     -0.582    0.584     -0.633    0.576    "
      ]
     },
     "metadata": {},
     "output_type": "display_data"
    },
    {
     "data": {
      "text/html": [
       "<table>\n",
       "<caption>A data.frame: 1 × 19</caption>\n",
       "<thead>\n",
       "\t<tr><th scope=col>Observations</th><th scope=col>avgRet007</th><th scope=col>stdRet007</th><th scope=col>avgRet014</th><th scope=col>stdRet014</th><th scope=col>avgRet021</th><th scope=col>stdRet021</th><th scope=col>avgRet030</th><th scope=col>stdRet030</th><th scope=col>avgRet060</th><th scope=col>stdRet060</th><th scope=col>avgRet090</th><th scope=col>stdRet090</th><th scope=col>avgRet120</th><th scope=col>stdRet120</th><th scope=col>avgRet150</th><th scope=col>stdRet150</th><th scope=col>avgRet180</th><th scope=col>stdRet180</th></tr>\n",
       "\t<tr><th scope=col>&lt;dbl&gt;</th><th scope=col>&lt;dbl&gt;</th><th scope=col>&lt;dbl&gt;</th><th scope=col>&lt;dbl&gt;</th><th scope=col>&lt;dbl&gt;</th><th scope=col>&lt;dbl&gt;</th><th scope=col>&lt;dbl&gt;</th><th scope=col>&lt;dbl&gt;</th><th scope=col>&lt;dbl&gt;</th><th scope=col>&lt;dbl&gt;</th><th scope=col>&lt;dbl&gt;</th><th scope=col>&lt;dbl&gt;</th><th scope=col>&lt;dbl&gt;</th><th scope=col>&lt;dbl&gt;</th><th scope=col>&lt;dbl&gt;</th><th scope=col>&lt;dbl&gt;</th><th scope=col>&lt;dbl&gt;</th><th scope=col>&lt;dbl&gt;</th><th scope=col>&lt;dbl&gt;</th></tr>\n",
       "</thead>\n",
       "<tbody>\n",
       "\t<tr><td>123614</td><td>-0.0292</td><td>0.186</td><td>-0.0572</td><td>0.256</td><td>-0.084</td><td>0.307</td><td>-0.117</td><td>0.357</td><td>-0.214</td><td>0.464</td><td>-0.301</td><td>0.524</td><td>-0.378</td><td>0.558</td><td>-0.447</td><td>0.578</td><td>-0.505</td><td>0.591</td></tr>\n",
       "</tbody>\n",
       "</table>\n"
      ],
      "text/latex": [
       "A data.frame: 1 × 19\n",
       "\\begin{tabular}{lllllllllllllllllll}\n",
       " Observations & avgRet007 & stdRet007 & avgRet014 & stdRet014 & avgRet021 & stdRet021 & avgRet030 & stdRet030 & avgRet060 & stdRet060 & avgRet090 & stdRet090 & avgRet120 & stdRet120 & avgRet150 & stdRet150 & avgRet180 & stdRet180\\\\\n",
       " <dbl> & <dbl> & <dbl> & <dbl> & <dbl> & <dbl> & <dbl> & <dbl> & <dbl> & <dbl> & <dbl> & <dbl> & <dbl> & <dbl> & <dbl> & <dbl> & <dbl> & <dbl> & <dbl>\\\\\n",
       "\\hline\n",
       "\t 123614 & -0.0292 & 0.186 & -0.0572 & 0.256 & -0.084 & 0.307 & -0.117 & 0.357 & -0.214 & 0.464 & -0.301 & 0.524 & -0.378 & 0.558 & -0.447 & 0.578 & -0.505 & 0.591\\\\\n",
       "\\end{tabular}\n"
      ],
      "text/markdown": [
       "\n",
       "A data.frame: 1 × 19\n",
       "\n",
       "| Observations &lt;dbl&gt; | avgRet007 &lt;dbl&gt; | stdRet007 &lt;dbl&gt; | avgRet014 &lt;dbl&gt; | stdRet014 &lt;dbl&gt; | avgRet021 &lt;dbl&gt; | stdRet021 &lt;dbl&gt; | avgRet030 &lt;dbl&gt; | stdRet030 &lt;dbl&gt; | avgRet060 &lt;dbl&gt; | stdRet060 &lt;dbl&gt; | avgRet090 &lt;dbl&gt; | stdRet090 &lt;dbl&gt; | avgRet120 &lt;dbl&gt; | stdRet120 &lt;dbl&gt; | avgRet150 &lt;dbl&gt; | stdRet150 &lt;dbl&gt; | avgRet180 &lt;dbl&gt; | stdRet180 &lt;dbl&gt; |\n",
       "|---|---|---|---|---|---|---|---|---|---|---|---|---|---|---|---|---|---|---|\n",
       "| 123614 | -0.0292 | 0.186 | -0.0572 | 0.256 | -0.084 | 0.307 | -0.117 | 0.357 | -0.214 | 0.464 | -0.301 | 0.524 | -0.378 | 0.558 | -0.447 | 0.578 | -0.505 | 0.591 |\n",
       "\n"
      ],
      "text/plain": [
       "  Observations avgRet007 stdRet007 avgRet014 stdRet014 avgRet021 stdRet021\n",
       "1 123614       -0.0292   0.186     -0.0572   0.256     -0.084    0.307    \n",
       "  avgRet030 stdRet030 avgRet060 stdRet060 avgRet090 stdRet090 avgRet120\n",
       "1 -0.117    0.357     -0.214    0.464     -0.301    0.524     -0.378   \n",
       "  stdRet120 avgRet150 stdRet150 avgRet180 stdRet180\n",
       "1 0.558     -0.447    0.578     -0.505    0.591    "
      ]
     },
     "metadata": {},
     "output_type": "display_data"
    }
   ],
   "source": [
    "ageLt180 = getC2ScoreDbData(\"call GetSystemsByAge(180, 1)\");\n",
    "ageLt180\n",
    "ageGt180 = getC2ScoreDbData(\"call GetSystemsByAge(180, 0)\");\n",
    "ageGt180"
   ]
  },
  {
   "cell_type": "code",
   "execution_count": 36,
   "metadata": {},
   "outputs": [
    {
     "name": "stdout",
     "output_type": "stream",
     "text": [
      "[1] \"Accept H0\"\n",
      "[1] \"Z statistic\"\n",
      "[1] -0.0555\n",
      "[1] \"z critical value\"\n",
      "[1] 1.64\n",
      "[1] \"P value\"\n",
      "[1] 0.522\n",
      "[1] \"#####################\"\n"
     ]
    },
    {
     "data": {
      "text/html": [
       "-0.0554802489915139"
      ],
      "text/latex": [
       "-0.0554802489915139"
      ],
      "text/markdown": [
       "-0.0554802489915139"
      ],
      "text/plain": [
       "[1] -0.0555"
      ]
     },
     "metadata": {},
     "output_type": "display_data"
    },
    {
     "name": "stdout",
     "output_type": "stream",
     "text": [
      "[1] \"Accept H0\"\n",
      "[1] \"Z statistic\"\n",
      "[1] -0.344\n",
      "[1] \"z critical value\"\n",
      "[1] 1.64\n",
      "[1] \"P value\"\n",
      "[1] 0.634\n",
      "[1] \"#####################\"\n"
     ]
    },
    {
     "data": {
      "text/html": [
       "-0.343537787293121"
      ],
      "text/latex": [
       "-0.343537787293121"
      ],
      "text/markdown": [
       "-0.343537787293121"
      ],
      "text/plain": [
       "[1] -0.344"
      ]
     },
     "metadata": {},
     "output_type": "display_data"
    },
    {
     "name": "stdout",
     "output_type": "stream",
     "text": [
      "[1] \"Accept H0\"\n",
      "[1] \"Z statistic\"\n",
      "[1] -0.000771\n",
      "[1] \"z critical value\"\n",
      "[1] 1.64\n",
      "[1] \"P value\"\n",
      "[1] 0.5\n",
      "[1] \"#####################\"\n"
     ]
    },
    {
     "data": {
      "text/html": [
       "-0.00077107926787962"
      ],
      "text/latex": [
       "-0.00077107926787962"
      ],
      "text/markdown": [
       "-0.00077107926787962"
      ],
      "text/plain": [
       "[1] -0.000771"
      ]
     },
     "metadata": {},
     "output_type": "display_data"
    },
    {
     "name": "stdout",
     "output_type": "stream",
     "text": [
      "[1] \"Accept H0\"\n",
      "[1] \"Z statistic\"\n",
      "[1] -0.173\n",
      "[1] \"z critical value\"\n",
      "[1] 1.64\n",
      "[1] \"P value\"\n",
      "[1] 0.569\n",
      "[1] \"#####################\"\n"
     ]
    },
    {
     "data": {
      "text/html": [
       "-0.173164785612456"
      ],
      "text/latex": [
       "-0.173164785612456"
      ],
      "text/markdown": [
       "-0.173164785612456"
      ],
      "text/plain": [
       "[1] -0.173"
      ]
     },
     "metadata": {},
     "output_type": "display_data"
    }
   ],
   "source": [
    "#z.test.left(ageLt180$avgRet007,-0.0289, ageLt180$stdRet007,0.05)\n",
    "#z.test.left(ageLt180$avgRet180,-0.3722, ageLt180$stdRet180,0.05)\n",
    "z.test.right(ageLt180$avgRet007,-0.0289, ageLt180$stdRet007,0.05)\n",
    "z.test.right(ageLt180$avgRet180,-0.3722, ageLt180$stdRet180,0.05)\n",
    "\n",
    "#z.test.left(ageGt180$avgRet007,-0.0289, ageGt180$stdRet007,0.05)\n",
    "#z.test.left(ageGt180$avgRet180,-0.3722, ageGt180$stdRet180,0.05)\n",
    "z.test.right(ageGt180$avgRet007,-0.0289, ageGt180$stdRet007,0.05)\n",
    "z.test.right(ageGt180$avgRet180,-0.3722, ageGt180$stdRet180,0.05)"
   ]
  },
  {
   "cell_type": "code",
   "execution_count": 83,
   "metadata": {},
   "outputs": [
    {
     "data": {
      "image/png": "[encoded data removed]",
      "text/plain": [
       "Plot with title “Student distribution 9 dof”"
      ]
     },
     "metadata": {
      "image/png": {
       "height": 480,
       "width": 900
      }
     },
     "output_type": "display_data"
    }
   ],
   "source": [
    "# Plot of the Student distribution\n",
    "dfs <- 67518 # length(data_vector)-1\n",
    "x_ <- seq(-8,8,0.1)\n",
    "y <- dt(x_,dfs)\n",
    "t.val <- qt(1-0.05,df=dfs)\n",
    "plot(x_,y,type='l',lwd=3,col='blue',xlab='x',ylab='Density',main='Student distribution 9 dof')\n",
    "abline(v=0)\n",
    "abline(v=t.val,lwd=2,col='red')\n",
    "points(t.val,dt(t.val,dfs),lwd=3,col='red')"
   ]
  },
  {
   "cell_type": "code",
   "execution_count": 5,
   "metadata": {},
   "outputs": [],
   "source": [
    "agesData = agesInvestigation()"
   ]
  },
  {
   "cell_type": "code",
   "execution_count": 6,
   "metadata": {},
   "outputs": [],
   "source": [
    "statsDaily = getC2ScoreDbData(\"select * from ReturnsPopulationStatsDaily\")\n",
    "\n",
    "showData = function(omit,field){\n",
    "    data = statsDaily # local copy \n",
    "    maxDate = date(max(data$DateStart) ) - days(omit) # last date in the database minus OMIT days\n",
    "    data = data[data$DateStart < maxDate,]  # remove last OMIT days where returns are not defined\n",
    "\n",
    "    populationCharts(field,data)\n",
    "\n",
    "    observations = data[,c(field)]\n",
    "    print(summary(observations))\n",
    "    cat(\"Number of observations (days) =\",nrow(data),\" SD = \",sd(observations),\"\\n\")\n",
    "}\n"
   ]
  },
  {
   "cell_type": "code",
   "execution_count": 7,
   "metadata": {},
   "outputs": [
    {
     "data": {
      "text/html": [
       "<table>\n",
       "<caption>A data.frame: 6 × 3</caption>\n",
       "<thead>\n",
       "\t<tr><th></th><th scope=col>Date</th><th scope=col>Systemid</th><th scope=col>Age</th></tr>\n",
       "\t<tr><th></th><th scope=col>&lt;chr&gt;</th><th scope=col>&lt;dbl&gt;</th><th scope=col>&lt;dbl&gt;</th></tr>\n",
       "</thead>\n",
       "<tbody>\n",
       "\t<tr><th scope=row>1</th><td>2017-06-01</td><td>13202557</td><td>4488</td></tr>\n",
       "\t<tr><th scope=row>2</th><td>2017-06-01</td><td>21522544</td><td>4010</td></tr>\n",
       "\t<tr><th scope=row>3</th><td>2017-06-01</td><td>22906062</td><td>3894</td></tr>\n",
       "\t<tr><th scope=row>4</th><td>2017-06-01</td><td>27363168</td><td>3593</td></tr>\n",
       "\t<tr><th scope=row>5</th><td>2017-06-01</td><td>30415311</td><td>3410</td></tr>\n",
       "\t<tr><th scope=row>6</th><td>2017-06-01</td><td>32020445</td><td>3318</td></tr>\n",
       "</tbody>\n",
       "</table>\n"
      ],
      "text/latex": [
       "A data.frame: 6 × 3\n",
       "\\begin{tabular}{r|lll}\n",
       "  & Date & Systemid & Age\\\\\n",
       "  & <chr> & <dbl> & <dbl>\\\\\n",
       "\\hline\n",
       "\t1 & 2017-06-01 & 13202557 & 4488\\\\\n",
       "\t2 & 2017-06-01 & 21522544 & 4010\\\\\n",
       "\t3 & 2017-06-01 & 22906062 & 3894\\\\\n",
       "\t4 & 2017-06-01 & 27363168 & 3593\\\\\n",
       "\t5 & 2017-06-01 & 30415311 & 3410\\\\\n",
       "\t6 & 2017-06-01 & 32020445 & 3318\\\\\n",
       "\\end{tabular}\n"
      ],
      "text/markdown": [
       "\n",
       "A data.frame: 6 × 3\n",
       "\n",
       "| <!--/--> | Date &lt;chr&gt; | Systemid &lt;dbl&gt; | Age &lt;dbl&gt; |\n",
       "|---|---|---|---|\n",
       "| 1 | 2017-06-01 | 13202557 | 4488 |\n",
       "| 2 | 2017-06-01 | 21522544 | 4010 |\n",
       "| 3 | 2017-06-01 | 22906062 | 3894 |\n",
       "| 4 | 2017-06-01 | 27363168 | 3593 |\n",
       "| 5 | 2017-06-01 | 30415311 | 3410 |\n",
       "| 6 | 2017-06-01 | 32020445 | 3318 |\n",
       "\n"
      ],
      "text/plain": [
       "  Date       Systemid Age \n",
       "1 2017-06-01 13202557 4488\n",
       "2 2017-06-01 21522544 4010\n",
       "3 2017-06-01 22906062 3894\n",
       "4 2017-06-01 27363168 3593\n",
       "5 2017-06-01 30415311 3410\n",
       "6 2017-06-01 32020445 3318"
      ]
     },
     "metadata": {},
     "output_type": "display_data"
    }
   ],
   "source": [
    "systemsAges = getC2ScoreDbData(\"select * from SystemsAges\")\n",
    "head(systemsAges)"
   ]
  },
  {
   "cell_type": "code",
   "execution_count": 8,
   "metadata": {},
   "outputs": [
    {
     "data": {
      "text/plain": [
       "   Min. 1st Qu.  Median    Mean 3rd Qu.    Max. \n",
       "    0.0    61.0   187.0   444.6   507.0  5833.0 "
      ]
     },
     "metadata": {},
     "output_type": "display_data"
    }
   ],
   "source": [
    "summary(systemsAges$Age)"
   ]
  }
 ],
 "metadata": {
  "kernelspec": {
   "display_name": "R",
   "language": "R",
   "name": "ir"
  },
  "language_info": {
   "codemirror_mode": "r",
   "file_extension": ".r",
   "mimetype": "text/x-r-source",
   "name": "R",
   "pygments_lexer": "r",
   "version": "4.0.2"
  }
 },
 "nbformat": 4,
 "nbformat_minor": 4
}
