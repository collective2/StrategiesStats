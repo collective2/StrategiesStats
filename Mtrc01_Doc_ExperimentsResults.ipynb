{
 "cells": [
  {
   "cell_type": "markdown",
   "metadata": {},
   "source": [
    "# Experiments results\n",
    "\n",
    "This is an UI for experiments results. \n",
    "\n",
    "Tables are too wide. So results are separated to short, middle and long time intervals.\n",
    "\n",
    "Tables are sortable. "
   ]
  },
  {
   "cell_type": "code",
   "execution_count": 1,
   "metadata": {},
   "outputs": [],
   "source": [
    "source(\"JupyterUtils.R\")"
   ]
  },
  {
   "cell_type": "code",
   "execution_count": 2,
   "metadata": {},
   "outputs": [],
   "source": [
    "exresults = getC2ScoreDbData(\"select * from c2score_experiment_results\")\n",
    "setDT(exresults)"
   ]
  },
  {
   "cell_type": "markdown",
   "metadata": {},
   "source": [
    "# Results of experiments for 7, 14 and 21 days"
   ]
  },
  {
   "cell_type": "code",
   "execution_count": 3,
   "metadata": {
    "scrolled": false
   },
   "outputs": [],
   "source": [
    "exresults[, `:=`(RetSd007 = ROC007Mean / ROC007SD, RetSd014 = ROC014Mean / ROC014SD, RetSd021 = ROC021Mean / ROC021SD)]\n",
    "data1 = exresults[, .(name, attributeStep, RetSd007, RetSd014, RetSd021, ROC007Mean, ROC007SD, ROC014Mean, ROC014SD, ROC021Mean, ROC021SD, calcedwhen)]\n",
    "colnames(data1)[1:5] = c(\"Experiment name\",\"Experiment StatValue\",\"Metric007\",\"Metric014\",\"Metric021\")\n",
    "dt = datatable(data1, caption = \"Results of experiments for 7, 14 and 21 days\", options = list(autoWidth = TRUE,order = list(list(2, 'desc'))), rownames = FALSE)\n",
    "html = formatRound(dt,columns=3:11, digits=3)\n",
    "saveWidget(html, 'docs/ExperimentsResults_007-021.html')"
   ]
  },
  {
   "cell_type": "markdown",
   "metadata": {},
   "source": [
    "# Results of experiments for 30, 60 and 90 days"
   ]
  },
  {
   "cell_type": "code",
   "execution_count": 4,
   "metadata": {
    "scrolled": false
   },
   "outputs": [],
   "source": [
    "exresults[, `:=`(RetSd030 = ROC030Mean / ROC030SD, RetSd060 = ROC060Mean / ROC060SD, RetSd090 = ROC090Mean / ROC090SD)]\n",
    "data1 = exresults[, .(name, attributeStep, RetSd030, RetSd060, RetSd090, ROC030Mean, ROC030SD, ROC060Mean, ROC060SD, ROC090Mean, ROC090SD, calcedwhen)]\n",
    "colnames(data1)[1:5] = c(\"Experiment name\",\"Experiment StatValue\",\"Metric030\",\"Metric060\",\"Metric090\")\n",
    "dt = datatable(data1, caption = \"Results of experiments for 30, 60 and 90 days\", options = list( autoWidth = TRUE,order = list(list(2, 'desc'))), rownames = FALSE)\n",
    "html = formatRound(dt, columns=3:11, digits=3)\n",
    "saveWidget(html, 'docs/ExperimentsResults_030-090.html')"
   ]
  },
  {
   "cell_type": "markdown",
   "metadata": {},
   "source": [
    "# Results of experiments for 120, 150 and 180 days"
   ]
  },
  {
   "cell_type": "code",
   "execution_count": 5,
   "metadata": {},
   "outputs": [],
   "source": [
    "exresults[, `:=`(RetSd120 = ROC120Mean / ROC120SD, RetSd150 = ROC150Mean / ROC150SD, RetSd180 = ROC180Mean / ROC180SD)]\n",
    "data1 = exresults[, .(name, attributeStep, RetSd120, RetSd150, RetSd180, ROC120Mean, ROC120SD, ROC150Mean, ROC150SD, ROC180Mean, ROC180SD, calcedwhen)]\n",
    "colnames(data1)[1:5] = c(\"Experiment name\",\"Experiment StatValue\",\"Metric120\",\"Metric150\",\"Metric180\")\n",
    "dt = datatable(data1, caption = \"Results of experiments for 120, 150 and 180 days\", options = list( autoWidth = TRUE,order = list(list(2, 'desc'))), rownames = FALSE)\n",
    "html = formatRound(dt, columns=3:11, digits=3)\n",
    "saveWidget(html, 'docs/ExperimentsResults_120-180.html')"
   ]
  },
  {
   "cell_type": "markdown",
   "metadata": {},
   "source": [
    " # Results of experiments for 210, 240 and 270 days"
   ]
  },
  {
   "cell_type": "code",
   "execution_count": 6,
   "metadata": {},
   "outputs": [],
   "source": [
    "exresults[, `:=`(RetSd210 = ROC210Mean / ROC210SD, RetSd240 = ROC240Mean / ROC240SD, RetSd270 = ROC270Mean / ROC270SD)]\n",
    "data1 = exresults[, .(name, attributeStep, RetSd210, RetSd240, RetSd270, ROC210Mean, ROC210SD, ROC240Mean, ROC240SD, ROC270Mean, ROC270SD, calcedwhen)]\n",
    "colnames(data1)[1:5] = c(\"Experiment name\",\"Experiment StatValue\",\"Metric210\",\"Metric240\",\"Metric270\")\n",
    "dt = datatable(data1, caption = \"Results of experiments for 210, 240 and 270 days\", options = list( autoWidth = TRUE,order = list(list(2, 'desc'))), rownames = FALSE)\n",
    "html = formatRound(dt, columns=3:11, digits=3)\n",
    "saveWidget(html, 'docs/ExperimentsResults_210-270.html')"
   ]
  },
  {
   "cell_type": "markdown",
   "metadata": {},
   "source": [
    "# Results of experiments for 300, 330 and 360 days"
   ]
  },
  {
   "cell_type": "code",
   "execution_count": 7,
   "metadata": {},
   "outputs": [],
   "source": [
    "exresults[, `:=`(RetSd300 = ROC300Mean / ROC300SD, RetSd330 = ROC330Mean / ROC330SD, RetSd360 = ROC360Mean / ROC360SD)]\n",
    "data1 = exresults[, .(name, attributeStep, RetSd300, RetSd330, RetSd360, ROC300Mean, ROC300SD, ROC330Mean, ROC330SD, ROC360Mean, ROC360SD, calcedwhen)]\n",
    "colnames(data1)[1:5] = c(\"Experiment name\",\"Experiment StatValue\",\"Metric300\",\"Metric330\",\"Metric360\")\n",
    "dt = datatable(data1, caption = \"Results of experiments for 300, 330 and 360 days\", options = list( autoWidth = TRUE,order = list(list(2, 'desc'))), rownames = FALSE)\n",
    "html = formatRound(dt, columns=3:11, digits=3)\n",
    "saveWidget(html, 'docs/ExperimentsResults_300-360.html')\n"
   ]
  }
 ],
 "metadata": {
  "kernelspec": {
   "display_name": "R",
   "language": "R",
   "name": "ir"
  },
  "language_info": {
   "codemirror_mode": "r",
   "file_extension": ".r",
   "mimetype": "text/x-r-source",
   "name": "R",
   "pygments_lexer": "r",
   "version": "4.0.2"
  }
 },
 "nbformat": 4,
 "nbformat_minor": 4
}
